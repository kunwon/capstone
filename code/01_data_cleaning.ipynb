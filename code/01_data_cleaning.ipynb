{
 "metadata": {
  "language_info": {
   "codemirror_mode": {
    "name": "ipython",
    "version": 3
   },
   "file_extension": ".py",
   "mimetype": "text/x-python",
   "name": "python",
   "nbconvert_exporter": "python",
   "pygments_lexer": "ipython3",
   "version": "3.8.5"
  },
  "orig_nbformat": 2,
  "kernelspec": {
   "name": "python385jvsc74a57bd0dca0ade3e726a953b501b15e8e990130d2b7799f14cfd9f4271676035ebe5511",
   "display_name": "Python 3.8.5 64-bit ('base': conda)"
  }
 },
 "nbformat": 4,
 "nbformat_minor": 2,
 "cells": [
  {
   "cell_type": "code",
   "execution_count": 21,
   "metadata": {},
   "outputs": [],
   "source": [
    "import numpy as np\n",
    "import pandas as pd\n",
    "import json\n",
    "\n",
    "pd.set_option('display.max_columns', None)"
   ]
  },
  {
   "cell_type": "code",
   "execution_count": 7,
   "metadata": {},
   "outputs": [],
   "source": [
    "with open('../data/raw_data.json') as f:\n",
    "    data = json.load(f)"
   ]
  },
  {
   "cell_type": "code",
   "execution_count": 9,
   "metadata": {},
   "outputs": [
    {
     "output_type": "execute_result",
     "data": {
      "text/plain": [
       "6547"
      ]
     },
     "metadata": {},
     "execution_count": 9
    }
   ],
   "source": [
    "len(data)"
   ]
  },
  {
   "cell_type": "code",
   "execution_count": 75,
   "metadata": {},
   "outputs": [
    {
     "output_type": "execute_result",
     "data": {
      "text/plain": [
       "dict_keys(['title', 'subTitle', 'categoryName', 'address', 'locatedIn', 'neighborhood', 'street', 'city', 'postalCode', 'state', 'countryCode', 'plusCode', 'website', 'phone', 'temporarilyClosed', 'permanentlyClosed', 'totalScore', 'isAdvertisement', 'rank', 'placeId', 'url', 'searchPageUrl', 'searchString', 'location', 'scrapedAt', 'reviewsCount', 'reviewsDistribution', 'reviews'])"
      ]
     },
     "metadata": {},
     "execution_count": 75
    }
   ],
   "source": [
    "data[0].keys()"
   ]
  },
  {
   "cell_type": "code",
   "execution_count": 98,
   "metadata": {},
   "outputs": [
    {
     "output_type": "execute_result",
     "data": {
      "text/plain": [
       "'491 Jurong West Ave 1, Block 491'"
      ]
     },
     "metadata": {},
     "execution_count": 98
    }
   ],
   "source": [
    "data[1]['street']"
   ]
  },
  {
   "cell_type": "code",
   "execution_count": 133,
   "metadata": {},
   "outputs": [],
   "source": [
    "res_list = []\n",
    "for restaurant in data:\n",
    "    res_dict = {}\n",
    "    try:\n",
    "        res_dict['title'] = restaurant['title']\n",
    "        res_dict['category'] = restaurant['categoryName']\n",
    "        res_dict['address'] = restaurant['address']\n",
    "        res_dict['locatedin'] = restaurant['locatedIn']\n",
    "        res_dict['website'] = restaurant['locatedIn']\n",
    "        res_dict['street'] = restaurant['street']\n",
    "        res_dict['city'] = restaurant['city']\n",
    "        res_dict['postalcode'] = restaurant['postalCode']\n",
    "        res_dict['countrycode'] = restaurant['countryCode']\n",
    "        res_dict['website'] = restaurant['website']\n",
    "        res_dict['phone'] = restaurant['phone']\n",
    "        res_dict['permclosed'] = restaurant['permanentlyClosed']\n",
    "        res_dict['ad'] = restaurant['isAdvertisement']\n",
    "        res_dict['score'] = restaurant['totalScore']\n",
    "        res_dict['placeid'] = restaurant['placeId']\n",
    "        res_dict['lat'] = restaurant['location']['lat']\n",
    "        res_dict['lng'] = restaurant['location']['lng']\n",
    "        res_dict['reviewsno'] = restaurant['reviewsCount']\n",
    "        res_dict['onestar'] = restaurant['reviewsDistribution']['oneStar']\n",
    "        res_dict['twostar'] = restaurant['reviewsDistribution']['twoStar']\n",
    "        res_dict['threestar'] = restaurant['reviewsDistribution']['threeStar']\n",
    "        res_dict['fourstar'] = restaurant['reviewsDistribution']['fourStar']\n",
    "        res_dict['fivestar'] = restaurant['reviewsDistribution']['fiveStar']\n",
    "    except:\n",
    "        pass\n",
    "    res_list.append(res_dict)"
   ]
  },
  {
   "cell_type": "code",
   "execution_count": 146,
   "metadata": {},
   "outputs": [],
   "source": [
    "res = pd.DataFrame(res_list)"
   ]
  },
  {
   "cell_type": "code",
   "execution_count": 149,
   "metadata": {},
   "outputs": [
    {
     "output_type": "stream",
     "name": "stdout",
     "text": [
      "<class 'pandas.core.frame.DataFrame'>\nRangeIndex: 6547 entries, 0 to 6546\nData columns (total 22 columns):\n #   Column       Non-Null Count  Dtype  \n---  ------       --------------  -----  \n 0   title        6547 non-null   object \n 1   category     6547 non-null   object \n 2   address      6541 non-null   object \n 3   locatedin    3726 non-null   object \n 4   website      4755 non-null   object \n 5   street       6444 non-null   object \n 6   city         6312 non-null   object \n 7   postalcode   6309 non-null   object \n 8   countrycode  6542 non-null   object \n 9   phone        5154 non-null   object \n 10  permclosed   6542 non-null   object \n 11  ad           6542 non-null   object \n 12  score        5800 non-null   float64\n 13  placeid      6542 non-null   object \n 14  lat          6533 non-null   float64\n 15  lng          6533 non-null   float64\n 16  reviewsno    6533 non-null   float64\n 17  onestar      6530 non-null   float64\n 18  twostar      6530 non-null   float64\n 19  threestar    6530 non-null   float64\n 20  fourstar     6530 non-null   float64\n 21  fivestar     6530 non-null   float64\ndtypes: float64(9), object(13)\nmemory usage: 1.1+ MB\n"
     ]
    }
   ],
   "source": [
    "res.info()"
   ]
  },
  {
   "cell_type": "code",
   "execution_count": 176,
   "metadata": {},
   "outputs": [
    {
     "output_type": "execute_result",
     "data": {
      "text/plain": [
       "                                    title                 category  \\\n",
       "0                            Shang Palace     Cantonese restaurant   \n",
       "1                          KNS RESTAURANT               Restaurant   \n",
       "2                    Al Afrida Restaurant               Restaurant   \n",
       "3  Princess Terrace Authentic Penang Food  Asian fusion restaurant   \n",
       "4                               Starbucks              Coffee shop   \n",
       "\n",
       "                                             address  \\\n",
       "0               22 Orange Grove Rd, Singapore 258350   \n",
       "1  491 Jurong West Ave 1, Block 491, Singapore 64...   \n",
       "2                 65 Yung Kuang Rd, Singapore 610065   \n",
       "3                  403 Havelock Rd, Singapore 169632   \n",
       "4  #B1, 8 College Ave West, 01 University Town, E...   \n",
       "\n",
       "                                      locatedin               website  \\\n",
       "0                    Shangri-La Hotel Singapore        shangri-la.com   \n",
       "1                                          None                  None   \n",
       "2                                          None                  None   \n",
       "3  Copthorne King's Hotel Singapore on Havelock  millenniumhotels.com   \n",
       "4                          University Town, NUS      starbucks.com.sg   \n",
       "\n",
       "                                              street       city postalcode  \\\n",
       "0                                 22 Orange Grove Rd  Singapore     258350   \n",
       "1                   491 Jurong West Ave 1, Block 491  Singapore     640491   \n",
       "2                                   65 Yung Kuang Rd  Singapore     610065   \n",
       "3                                    403 Havelock Rd  Singapore     169632   \n",
       "4  #B1, 8 College Ave West, 01 University Town, E...  Singapore     138608   \n",
       "\n",
       "  countrycode          phone permclosed     ad  score  \\\n",
       "0          SG  +65 6213 4473      False  False    4.3   \n",
       "1          SG           None      False  False    3.0   \n",
       "2          SG  +65 9087 9207      False  False    2.7   \n",
       "3          SG  +65 6318 3168      False  False    4.0   \n",
       "4          SG  +65 6910 1127      False  False    4.2   \n",
       "\n",
       "                       placeid       lat         lng  reviewsno  onestar  \\\n",
       "0  ChIJXU9FcvQZ2jER7JzFxTOvf9A  1.311137  103.826590      162.0      7.0   \n",
       "1  ChIJZRgFnAEP2jERKjUYAYIq4_Y  1.349476  103.725870        7.0      3.0   \n",
       "2  ChIJVcTbzycP2jERsdR9HVEL2fY  1.332373  103.722887       22.0      9.0   \n",
       "3  ChIJ4ZcCMXYZ2jER1oQXTKk-iEw  1.288343  103.836668      240.0     11.0   \n",
       "4  ChIJ3SWtPfUa2jERQaXuDgcJ4uc  1.305365  103.773165      126.0      6.0   \n",
       "\n",
       "   twostar  threestar  fourstar  fivestar  \n",
       "0      5.0       14.0      49.0      87.0  \n",
       "1      0.0        0.0       2.0       2.0  \n",
       "2      2.0        3.0       3.0       5.0  \n",
       "3     11.0       42.0      82.0      94.0  \n",
       "4      3.0       15.0      36.0      66.0  "
      ],
      "text/html": "<div>\n<style scoped>\n    .dataframe tbody tr th:only-of-type {\n        vertical-align: middle;\n    }\n\n    .dataframe tbody tr th {\n        vertical-align: top;\n    }\n\n    .dataframe thead th {\n        text-align: right;\n    }\n</style>\n<table border=\"1\" class=\"dataframe\">\n  <thead>\n    <tr style=\"text-align: right;\">\n      <th></th>\n      <th>title</th>\n      <th>category</th>\n      <th>address</th>\n      <th>locatedin</th>\n      <th>website</th>\n      <th>street</th>\n      <th>city</th>\n      <th>postalcode</th>\n      <th>countrycode</th>\n      <th>phone</th>\n      <th>permclosed</th>\n      <th>ad</th>\n      <th>score</th>\n      <th>placeid</th>\n      <th>lat</th>\n      <th>lng</th>\n      <th>reviewsno</th>\n      <th>onestar</th>\n      <th>twostar</th>\n      <th>threestar</th>\n      <th>fourstar</th>\n      <th>fivestar</th>\n    </tr>\n  </thead>\n  <tbody>\n    <tr>\n      <th>0</th>\n      <td>Shang Palace</td>\n      <td>Cantonese restaurant</td>\n      <td>22 Orange Grove Rd, Singapore 258350</td>\n      <td>Shangri-La Hotel Singapore</td>\n      <td>shangri-la.com</td>\n      <td>22 Orange Grove Rd</td>\n      <td>Singapore</td>\n      <td>258350</td>\n      <td>SG</td>\n      <td>+65 6213 4473</td>\n      <td>False</td>\n      <td>False</td>\n      <td>4.3</td>\n      <td>ChIJXU9FcvQZ2jER7JzFxTOvf9A</td>\n      <td>1.311137</td>\n      <td>103.826590</td>\n      <td>162.0</td>\n      <td>7.0</td>\n      <td>5.0</td>\n      <td>14.0</td>\n      <td>49.0</td>\n      <td>87.0</td>\n    </tr>\n    <tr>\n      <th>1</th>\n      <td>KNS RESTAURANT</td>\n      <td>Restaurant</td>\n      <td>491 Jurong West Ave 1, Block 491, Singapore 64...</td>\n      <td>None</td>\n      <td>None</td>\n      <td>491 Jurong West Ave 1, Block 491</td>\n      <td>Singapore</td>\n      <td>640491</td>\n      <td>SG</td>\n      <td>None</td>\n      <td>False</td>\n      <td>False</td>\n      <td>3.0</td>\n      <td>ChIJZRgFnAEP2jERKjUYAYIq4_Y</td>\n      <td>1.349476</td>\n      <td>103.725870</td>\n      <td>7.0</td>\n      <td>3.0</td>\n      <td>0.0</td>\n      <td>0.0</td>\n      <td>2.0</td>\n      <td>2.0</td>\n    </tr>\n    <tr>\n      <th>2</th>\n      <td>Al Afrida Restaurant</td>\n      <td>Restaurant</td>\n      <td>65 Yung Kuang Rd, Singapore 610065</td>\n      <td>None</td>\n      <td>None</td>\n      <td>65 Yung Kuang Rd</td>\n      <td>Singapore</td>\n      <td>610065</td>\n      <td>SG</td>\n      <td>+65 9087 9207</td>\n      <td>False</td>\n      <td>False</td>\n      <td>2.7</td>\n      <td>ChIJVcTbzycP2jERsdR9HVEL2fY</td>\n      <td>1.332373</td>\n      <td>103.722887</td>\n      <td>22.0</td>\n      <td>9.0</td>\n      <td>2.0</td>\n      <td>3.0</td>\n      <td>3.0</td>\n      <td>5.0</td>\n    </tr>\n    <tr>\n      <th>3</th>\n      <td>Princess Terrace Authentic Penang Food</td>\n      <td>Asian fusion restaurant</td>\n      <td>403 Havelock Rd, Singapore 169632</td>\n      <td>Copthorne King's Hotel Singapore on Havelock</td>\n      <td>millenniumhotels.com</td>\n      <td>403 Havelock Rd</td>\n      <td>Singapore</td>\n      <td>169632</td>\n      <td>SG</td>\n      <td>+65 6318 3168</td>\n      <td>False</td>\n      <td>False</td>\n      <td>4.0</td>\n      <td>ChIJ4ZcCMXYZ2jER1oQXTKk-iEw</td>\n      <td>1.288343</td>\n      <td>103.836668</td>\n      <td>240.0</td>\n      <td>11.0</td>\n      <td>11.0</td>\n      <td>42.0</td>\n      <td>82.0</td>\n      <td>94.0</td>\n    </tr>\n    <tr>\n      <th>4</th>\n      <td>Starbucks</td>\n      <td>Coffee shop</td>\n      <td>#B1, 8 College Ave West, 01 University Town, E...</td>\n      <td>University Town, NUS</td>\n      <td>starbucks.com.sg</td>\n      <td>#B1, 8 College Ave West, 01 University Town, E...</td>\n      <td>Singapore</td>\n      <td>138608</td>\n      <td>SG</td>\n      <td>+65 6910 1127</td>\n      <td>False</td>\n      <td>False</td>\n      <td>4.2</td>\n      <td>ChIJ3SWtPfUa2jERQaXuDgcJ4uc</td>\n      <td>1.305365</td>\n      <td>103.773165</td>\n      <td>126.0</td>\n      <td>6.0</td>\n      <td>3.0</td>\n      <td>15.0</td>\n      <td>36.0</td>\n      <td>66.0</td>\n    </tr>\n  </tbody>\n</table>\n</div>"
     },
     "metadata": {},
     "execution_count": 176
    }
   ],
   "source": [
    "res.head()"
   ]
  },
  {
   "cell_type": "code",
   "execution_count": 193,
   "metadata": {},
   "outputs": [
    {
     "output_type": "execute_result",
     "data": {
      "text/plain": [
       "'W San L'"
      ]
     },
     "metadata": {},
     "execution_count": 193
    }
   ],
   "source": [
    "data[0]['reviews'][0]['name']"
   ]
  },
  {
   "cell_type": "code",
   "execution_count": 206,
   "metadata": {},
   "outputs": [],
   "source": [
    "rev_list = []\n",
    "for restaurant in data:\n",
    "    for review in restaurant['reviews']:\n",
    "        rev_dict = {}\n",
    "        rev_dict['title'] = restaurant['title']\n",
    "        rev_dict['placeid'] = restaurant['placeId']\n",
    "        rev_dict['revname'] = review['name']\n",
    "        rev_dict['revid'] = review['reviewerId']\n",
    "        rev_dict['revdate'] = review['publishedAtDate']\n",
    "        rev_dict['revtext'] = review['text']\n",
    "        rev_dict['stars'] = review['stars']\n",
    "        rev_list.append(rev_dict)"
   ]
  },
  {
   "cell_type": "code",
   "execution_count": 207,
   "metadata": {},
   "outputs": [],
   "source": [
    "rev = pd.DataFrame(rev_list)"
   ]
  },
  {
   "cell_type": "code",
   "execution_count": 226,
   "metadata": {},
   "outputs": [
    {
     "output_type": "execute_result",
     "data": {
      "text/plain": [
       "revname\n",
       "H2 O               154\n",
       "steven lim         144\n",
       "YuLei Liu          124\n",
       "Andrew Goh         116\n",
       "FoodieDirectory    114\n",
       "                  ... \n",
       "lee123               0\n",
       "Mandy                0\n",
       "Hikari88             0\n",
       "AshAzmn89            0\n",
       "onnion               0\n",
       "Name: revid, Length: 95640, dtype: int64"
      ]
     },
     "metadata": {},
     "execution_count": 226
    }
   ],
   "source": [
    "rev.groupby('revname')['revid'].count().sort_values(ascending=False)"
   ]
  },
  {
   "cell_type": "code",
   "execution_count": null,
   "metadata": {},
   "outputs": [],
   "source": []
  }
 ]
}