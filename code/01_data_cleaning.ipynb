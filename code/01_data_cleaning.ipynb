{
 "metadata": {
  "language_info": {
   "codemirror_mode": {
    "name": "ipython",
    "version": 3
   },
   "file_extension": ".py",
   "mimetype": "text/x-python",
   "name": "python",
   "nbconvert_exporter": "python",
   "pygments_lexer": "ipython3",
   "version": "3.8.5"
  },
  "orig_nbformat": 2,
  "kernelspec": {
   "name": "python385jvsc74a57bd0dca0ade3e726a953b501b15e8e990130d2b7799f14cfd9f4271676035ebe5511",
   "display_name": "Python 3.8.5 64-bit ('base': conda)"
  }
 },
 "nbformat": 4,
 "nbformat_minor": 2,
 "cells": [
  {
   "source": [
    "# Data Cleaning"
   ],
   "cell_type": "markdown",
   "metadata": {}
  },
  {
   "source": [
    "### Import Libraries and Datasets"
   ],
   "cell_type": "markdown",
   "metadata": {}
  },
  {
   "cell_type": "code",
   "execution_count": 1,
   "metadata": {},
   "outputs": [],
   "source": [
    "import numpy as np\n",
    "import pandas as pd\n",
    "import json\n",
    "import requests\n",
    "import re\n",
    "import time\n",
    "\n",
    "pd.set_option('display.max_columns', None)"
   ]
  },
  {
   "cell_type": "code",
   "execution_count": 2,
   "metadata": {},
   "outputs": [],
   "source": [
    "with open('../data/raw_data.json') as f:\n",
    "    data = json.load(f)"
   ]
  },
  {
   "cell_type": "code",
   "execution_count": 3,
   "metadata": {},
   "outputs": [
    {
     "output_type": "execute_result",
     "data": {
      "text/plain": [
       "6547"
      ]
     },
     "metadata": {},
     "execution_count": 3
    }
   ],
   "source": [
    "len(data)"
   ]
  },
  {
   "cell_type": "code",
   "execution_count": 4,
   "metadata": {},
   "outputs": [
    {
     "output_type": "execute_result",
     "data": {
      "text/plain": [
       "dict_keys(['title', 'subTitle', 'categoryName', 'address', 'locatedIn', 'neighborhood', 'street', 'city', 'postalCode', 'state', 'countryCode', 'plusCode', 'website', 'phone', 'temporarilyClosed', 'permanentlyClosed', 'totalScore', 'isAdvertisement', 'rank', 'placeId', 'url', 'searchPageUrl', 'searchString', 'location', 'scrapedAt', 'reviewsCount', 'reviewsDistribution', 'reviews'])"
      ]
     },
     "metadata": {},
     "execution_count": 4
    }
   ],
   "source": [
    "data[0].keys()"
   ]
  },
  {
   "cell_type": "code",
   "execution_count": 5,
   "metadata": {},
   "outputs": [
    {
     "output_type": "execute_result",
     "data": {
      "text/plain": [
       "'491 Jurong West Ave 1, Block 491'"
      ]
     },
     "metadata": {},
     "execution_count": 5
    }
   ],
   "source": [
    "data[1]['street']"
   ]
  },
  {
   "cell_type": "code",
   "execution_count": 6,
   "metadata": {},
   "outputs": [],
   "source": [
    "res_list = []\n",
    "for restaurant in data:\n",
    "    res_dict = {}\n",
    "    try:\n",
    "        res_dict['title'] = restaurant['title']\n",
    "        res_dict['category'] = restaurant['categoryName']\n",
    "        res_dict['address'] = restaurant['address']\n",
    "        res_dict['locatedin'] = restaurant['locatedIn']\n",
    "        res_dict['street'] = restaurant['street']\n",
    "        res_dict['city'] = restaurant['city']\n",
    "        res_dict['postalcode'] = restaurant['postalCode']\n",
    "        res_dict['countrycode'] = restaurant['countryCode']\n",
    "        res_dict['website'] = restaurant['website']\n",
    "        res_dict['url'] = restaurant['url']\n",
    "        res_dict['phone'] = restaurant['phone']\n",
    "        res_dict['permclosed'] = restaurant['permanentlyClosed']\n",
    "        res_dict['ad'] = restaurant['isAdvertisement']\n",
    "        res_dict['score'] = restaurant['totalScore']\n",
    "        res_dict['placeid'] = restaurant['placeId']\n",
    "        res_dict['lat'] = restaurant['location']['lat']\n",
    "        res_dict['lng'] = restaurant['location']['lng']\n",
    "        res_dict['reviewsno'] = restaurant['reviewsCount']\n",
    "        res_dict['onestar'] = restaurant['reviewsDistribution']['oneStar']\n",
    "        res_dict['twostar'] = restaurant['reviewsDistribution']['twoStar']\n",
    "        res_dict['threestar'] = restaurant['reviewsDistribution']['threeStar']\n",
    "        res_dict['fourstar'] = restaurant['reviewsDistribution']['fourStar']\n",
    "        res_dict['fivestar'] = restaurant['reviewsDistribution']['fiveStar']\n",
    "    except:\n",
    "        pass\n",
    "    res_list.append(res_dict)"
   ]
  },
  {
   "cell_type": "code",
   "execution_count": 7,
   "metadata": {},
   "outputs": [],
   "source": [
    "res = pd.DataFrame(res_list)"
   ]
  },
  {
   "cell_type": "code",
   "execution_count": 8,
   "metadata": {},
   "outputs": [
    {
     "output_type": "stream",
     "name": "stdout",
     "text": [
      "<class 'pandas.core.frame.DataFrame'>\nRangeIndex: 6547 entries, 0 to 6546\nData columns (total 23 columns):\n #   Column       Non-Null Count  Dtype  \n---  ------       --------------  -----  \n 0   title        6547 non-null   object \n 1   category     6547 non-null   object \n 2   address      6541 non-null   object \n 3   locatedin    3726 non-null   object \n 4   street       6444 non-null   object \n 5   city         6312 non-null   object \n 6   postalcode   6309 non-null   object \n 7   countrycode  6542 non-null   object \n 8   website      4755 non-null   object \n 9   url          6542 non-null   object \n 10  phone        5154 non-null   object \n 11  permclosed   6542 non-null   object \n 12  ad           6542 non-null   object \n 13  score        5800 non-null   float64\n 14  placeid      6542 non-null   object \n 15  lat          6533 non-null   float64\n 16  lng          6533 non-null   float64\n 17  reviewsno    6533 non-null   float64\n 18  onestar      6530 non-null   float64\n 19  twostar      6530 non-null   float64\n 20  threestar    6530 non-null   float64\n 21  fourstar     6530 non-null   float64\n 22  fivestar     6530 non-null   float64\ndtypes: float64(9), object(14)\nmemory usage: 1.1+ MB\n"
     ]
    }
   ],
   "source": [
    "res.info()"
   ]
  },
  {
   "cell_type": "code",
   "execution_count": 9,
   "metadata": {},
   "outputs": [
    {
     "output_type": "execute_result",
     "data": {
      "text/plain": [
       "                                    title                 category  \\\n",
       "0                            Shang Palace     Cantonese restaurant   \n",
       "1                          KNS RESTAURANT               Restaurant   \n",
       "2                    Al Afrida Restaurant               Restaurant   \n",
       "3  Princess Terrace Authentic Penang Food  Asian fusion restaurant   \n",
       "4                               Starbucks              Coffee shop   \n",
       "\n",
       "                                             address  \\\n",
       "0               22 Orange Grove Rd, Singapore 258350   \n",
       "1  491 Jurong West Ave 1, Block 491, Singapore 64...   \n",
       "2                 65 Yung Kuang Rd, Singapore 610065   \n",
       "3                  403 Havelock Rd, Singapore 169632   \n",
       "4  #B1, 8 College Ave West, 01 University Town, E...   \n",
       "\n",
       "                                      locatedin  \\\n",
       "0                    Shangri-La Hotel Singapore   \n",
       "1                                          None   \n",
       "2                                          None   \n",
       "3  Copthorne King's Hotel Singapore on Havelock   \n",
       "4                          University Town, NUS   \n",
       "\n",
       "                                              street       city postalcode  \\\n",
       "0                                 22 Orange Grove Rd  Singapore     258350   \n",
       "1                   491 Jurong West Ave 1, Block 491  Singapore     640491   \n",
       "2                                   65 Yung Kuang Rd  Singapore     610065   \n",
       "3                                    403 Havelock Rd  Singapore     169632   \n",
       "4  #B1, 8 College Ave West, 01 University Town, E...  Singapore     138608   \n",
       "\n",
       "  countrycode               website  \\\n",
       "0          SG        shangri-la.com   \n",
       "1          SG                  None   \n",
       "2          SG                  None   \n",
       "3          SG  millenniumhotels.com   \n",
       "4          SG      starbucks.com.sg   \n",
       "\n",
       "                                                 url          phone  \\\n",
       "0  https://www.google.com/maps/place/Shang+Palace...  +65 6213 4473   \n",
       "1  https://www.google.com/maps/place/KNS+RESTAURA...           None   \n",
       "2  https://www.google.com/maps/place/Al+Afrida+Re...  +65 9087 9207   \n",
       "3  https://www.google.com/maps/place/Princess+Ter...  +65 6318 3168   \n",
       "4  https://www.google.com/maps/place/Starbucks/@1...  +65 6910 1127   \n",
       "\n",
       "  permclosed     ad  score                      placeid       lat         lng  \\\n",
       "0      False  False    4.3  ChIJXU9FcvQZ2jER7JzFxTOvf9A  1.311137  103.826590   \n",
       "1      False  False    3.0  ChIJZRgFnAEP2jERKjUYAYIq4_Y  1.349476  103.725870   \n",
       "2      False  False    2.7  ChIJVcTbzycP2jERsdR9HVEL2fY  1.332373  103.722887   \n",
       "3      False  False    4.0  ChIJ4ZcCMXYZ2jER1oQXTKk-iEw  1.288343  103.836668   \n",
       "4      False  False    4.2  ChIJ3SWtPfUa2jERQaXuDgcJ4uc  1.305365  103.773165   \n",
       "\n",
       "   reviewsno  onestar  twostar  threestar  fourstar  fivestar  \n",
       "0      162.0      7.0      5.0       14.0      49.0      87.0  \n",
       "1        7.0      3.0      0.0        0.0       2.0       2.0  \n",
       "2       22.0      9.0      2.0        3.0       3.0       5.0  \n",
       "3      240.0     11.0     11.0       42.0      82.0      94.0  \n",
       "4      126.0      6.0      3.0       15.0      36.0      66.0  "
      ],
      "text/html": "<div>\n<style scoped>\n    .dataframe tbody tr th:only-of-type {\n        vertical-align: middle;\n    }\n\n    .dataframe tbody tr th {\n        vertical-align: top;\n    }\n\n    .dataframe thead th {\n        text-align: right;\n    }\n</style>\n<table border=\"1\" class=\"dataframe\">\n  <thead>\n    <tr style=\"text-align: right;\">\n      <th></th>\n      <th>title</th>\n      <th>category</th>\n      <th>address</th>\n      <th>locatedin</th>\n      <th>street</th>\n      <th>city</th>\n      <th>postalcode</th>\n      <th>countrycode</th>\n      <th>website</th>\n      <th>url</th>\n      <th>phone</th>\n      <th>permclosed</th>\n      <th>ad</th>\n      <th>score</th>\n      <th>placeid</th>\n      <th>lat</th>\n      <th>lng</th>\n      <th>reviewsno</th>\n      <th>onestar</th>\n      <th>twostar</th>\n      <th>threestar</th>\n      <th>fourstar</th>\n      <th>fivestar</th>\n    </tr>\n  </thead>\n  <tbody>\n    <tr>\n      <th>0</th>\n      <td>Shang Palace</td>\n      <td>Cantonese restaurant</td>\n      <td>22 Orange Grove Rd, Singapore 258350</td>\n      <td>Shangri-La Hotel Singapore</td>\n      <td>22 Orange Grove Rd</td>\n      <td>Singapore</td>\n      <td>258350</td>\n      <td>SG</td>\n      <td>shangri-la.com</td>\n      <td>https://www.google.com/maps/place/Shang+Palace...</td>\n      <td>+65 6213 4473</td>\n      <td>False</td>\n      <td>False</td>\n      <td>4.3</td>\n      <td>ChIJXU9FcvQZ2jER7JzFxTOvf9A</td>\n      <td>1.311137</td>\n      <td>103.826590</td>\n      <td>162.0</td>\n      <td>7.0</td>\n      <td>5.0</td>\n      <td>14.0</td>\n      <td>49.0</td>\n      <td>87.0</td>\n    </tr>\n    <tr>\n      <th>1</th>\n      <td>KNS RESTAURANT</td>\n      <td>Restaurant</td>\n      <td>491 Jurong West Ave 1, Block 491, Singapore 64...</td>\n      <td>None</td>\n      <td>491 Jurong West Ave 1, Block 491</td>\n      <td>Singapore</td>\n      <td>640491</td>\n      <td>SG</td>\n      <td>None</td>\n      <td>https://www.google.com/maps/place/KNS+RESTAURA...</td>\n      <td>None</td>\n      <td>False</td>\n      <td>False</td>\n      <td>3.0</td>\n      <td>ChIJZRgFnAEP2jERKjUYAYIq4_Y</td>\n      <td>1.349476</td>\n      <td>103.725870</td>\n      <td>7.0</td>\n      <td>3.0</td>\n      <td>0.0</td>\n      <td>0.0</td>\n      <td>2.0</td>\n      <td>2.0</td>\n    </tr>\n    <tr>\n      <th>2</th>\n      <td>Al Afrida Restaurant</td>\n      <td>Restaurant</td>\n      <td>65 Yung Kuang Rd, Singapore 610065</td>\n      <td>None</td>\n      <td>65 Yung Kuang Rd</td>\n      <td>Singapore</td>\n      <td>610065</td>\n      <td>SG</td>\n      <td>None</td>\n      <td>https://www.google.com/maps/place/Al+Afrida+Re...</td>\n      <td>+65 9087 9207</td>\n      <td>False</td>\n      <td>False</td>\n      <td>2.7</td>\n      <td>ChIJVcTbzycP2jERsdR9HVEL2fY</td>\n      <td>1.332373</td>\n      <td>103.722887</td>\n      <td>22.0</td>\n      <td>9.0</td>\n      <td>2.0</td>\n      <td>3.0</td>\n      <td>3.0</td>\n      <td>5.0</td>\n    </tr>\n    <tr>\n      <th>3</th>\n      <td>Princess Terrace Authentic Penang Food</td>\n      <td>Asian fusion restaurant</td>\n      <td>403 Havelock Rd, Singapore 169632</td>\n      <td>Copthorne King's Hotel Singapore on Havelock</td>\n      <td>403 Havelock Rd</td>\n      <td>Singapore</td>\n      <td>169632</td>\n      <td>SG</td>\n      <td>millenniumhotels.com</td>\n      <td>https://www.google.com/maps/place/Princess+Ter...</td>\n      <td>+65 6318 3168</td>\n      <td>False</td>\n      <td>False</td>\n      <td>4.0</td>\n      <td>ChIJ4ZcCMXYZ2jER1oQXTKk-iEw</td>\n      <td>1.288343</td>\n      <td>103.836668</td>\n      <td>240.0</td>\n      <td>11.0</td>\n      <td>11.0</td>\n      <td>42.0</td>\n      <td>82.0</td>\n      <td>94.0</td>\n    </tr>\n    <tr>\n      <th>4</th>\n      <td>Starbucks</td>\n      <td>Coffee shop</td>\n      <td>#B1, 8 College Ave West, 01 University Town, E...</td>\n      <td>University Town, NUS</td>\n      <td>#B1, 8 College Ave West, 01 University Town, E...</td>\n      <td>Singapore</td>\n      <td>138608</td>\n      <td>SG</td>\n      <td>starbucks.com.sg</td>\n      <td>https://www.google.com/maps/place/Starbucks/@1...</td>\n      <td>+65 6910 1127</td>\n      <td>False</td>\n      <td>False</td>\n      <td>4.2</td>\n      <td>ChIJ3SWtPfUa2jERQaXuDgcJ4uc</td>\n      <td>1.305365</td>\n      <td>103.773165</td>\n      <td>126.0</td>\n      <td>6.0</td>\n      <td>3.0</td>\n      <td>15.0</td>\n      <td>36.0</td>\n      <td>66.0</td>\n    </tr>\n  </tbody>\n</table>\n</div>"
     },
     "metadata": {},
     "execution_count": 9
    }
   ],
   "source": [
    "res.head()"
   ]
  },
  {
   "source": [
    "### Dropping permanently closed shops"
   ],
   "cell_type": "markdown",
   "metadata": {}
  },
  {
   "cell_type": "code",
   "execution_count": 10,
   "metadata": {},
   "outputs": [
    {
     "output_type": "execute_result",
     "data": {
      "text/plain": [
       "Int64Index([ 248, 2196, 2216, 2443, 3435, 3501, 4182, 4183, 4586, 5032, 5150,\n",
       "            5209, 5591, 5857, 5936, 6236, 6343, 6379, 6380, 6383],\n",
       "           dtype='int64')"
      ]
     },
     "metadata": {},
     "execution_count": 10
    }
   ],
   "source": [
    "res[res.permclosed==True].index"
   ]
  },
  {
   "cell_type": "code",
   "execution_count": 11,
   "metadata": {},
   "outputs": [],
   "source": [
    "res.drop(res[res.permclosed==True].index, inplace=True)"
   ]
  },
  {
   "source": [
    "### Dropping non-restaurants"
   ],
   "cell_type": "markdown",
   "metadata": {}
  },
  {
   "cell_type": "code",
   "execution_count": 12,
   "metadata": {},
   "outputs": [
    {
     "output_type": "execute_result",
     "data": {
      "text/plain": [
       "array(['Cantonese restaurant', 'Restaurant', 'Asian fusion restaurant',\n",
       "       'Coffee shop', '', 'Barbecue restaurant',\n",
       "       'Industrial gas supplier', 'Bar', 'Fusion restaurant',\n",
       "       'Fast food restaurant', 'Modern European restaurant',\n",
       "       'Nyonya restaurant', 'Caterer', 'Chinese restaurant',\n",
       "       'Shopping mall', 'Seafood restaurant', 'Cocktail bar',\n",
       "       'Hawker stall', 'Hawker centre', 'Korean restaurant',\n",
       "       'Indian Muslim restaurant', 'Western restaurant',\n",
       "       'Thai restaurant', 'Indian restaurant', 'Commercial agent',\n",
       "       'Korean barbecue restaurant', 'Okonomiyaki restaurant',\n",
       "       'Italian restaurant', 'Pan-Asian restaurant', 'Mexican restaurant',\n",
       "       'Asian restaurant', 'Fine dining restaurant', 'Steak house',\n",
       "       'Singaporean restaurant', 'Buffet restaurant',\n",
       "       'Vegetarian restaurant', 'American restaurant', 'Halal restaurant',\n",
       "       'Unagi restaurant', 'French restaurant',\n",
       "       'Mediterranean restaurant', 'Modern British restaurant',\n",
       "       'Haute French restaurant', 'Corporate office', 'Business center',\n",
       "       'Industrial equipment supplier', 'Gas company', 'Manufacturer',\n",
       "       'Packaging company', 'Ramen restaurant', 'Food court',\n",
       "       'Convenience store', 'Bubble tea store', 'Gas station',\n",
       "       'Uniform store', 'Cafe', 'Pizza restaurant', 'Customs office',\n",
       "       'Resort hotel', 'Social club', 'Pizza delivery', 'Tire shop',\n",
       "       'Chicken restaurant', 'Restaurant supply store', 'Cafeteria',\n",
       "       'Chinese takeaway', 'Certification agency', 'Sandwich shop',\n",
       "       'Association or organization', 'Oil and gas exploration service',\n",
       "       'Delivery Restaurant', 'Japanese restaurant', 'Tex-Mex restaurant',\n",
       "       'Wildlife park', 'Persian restaurant', 'Malaysian restaurant',\n",
       "       'Middle Eastern restaurant', 'Spanish restaurant',\n",
       "       'Modern French restaurant', 'Southeast Asian restaurant',\n",
       "       'Bar & grill', 'Authentic Japanese restaurant',\n",
       "       'Australian restaurant', 'Hong Kong style fast food restaurant',\n",
       "       'Takeout Restaurant', 'Chinese noodle restaurant',\n",
       "       'Traditional restaurant', 'Fried chicken takeaway',\n",
       "       'Southern Italian restaurant', 'Greek restaurant',\n",
       "       'Taiwanese restaurant', 'Japanese curry restaurant',\n",
       "       'Coffee store', 'Bangladeshi restaurant', 'Bakery', 'Airport',\n",
       "       'Vegetarian cafe and deli', 'Ice cream shop',\n",
       "       'Yakitori restaurant', 'Donut shop', 'Recreation center',\n",
       "       'Community center', 'Tempura donburi restaurant', 'Pizza Takeout',\n",
       "       'Diner', 'Conveyor belt sushi restaurant', 'Indonesian restaurant',\n",
       "       'Salad shop', 'Vietnamese restaurant', 'European restaurant',\n",
       "       'Tonkatsu restaurant', 'Porridge restaurant', 'Hot pot restaurant',\n",
       "       'Hamburger restaurant', 'Grocery store', 'Beer garden',\n",
       "       'Japanese grocery store', 'Bistro', 'Health food restaurant',\n",
       "       'Dessert shop', 'Media company', 'Modern izakaya restaurants',\n",
       "       'Repair service', 'Rice restaurant', 'Chinese tea house',\n",
       "       'Dim sum restaurant', 'Home goods store', 'Hoagie restaurant',\n",
       "       'Meat dish restaurant', 'Burmese restaurant', 'Hot dog restaurant',\n",
       "       'Noodle shop', 'Mexican grocery store', 'Steamboat restaurant',\n",
       "       'Store', 'Syokudo and Teishoku restaurant',\n",
       "       'Food products supplier', 'Filipino restaurant', 'Marina',\n",
       "       'Yakiniku restaurant', 'Gastropub', 'Soup restaurant',\n",
       "       'Oyster bar restaurant', 'Health food store', 'Racecourse',\n",
       "       'Juice shop', 'Cake shop', 'Brewery', 'Food manufacturer',\n",
       "       'Vocational college', 'Takoyaki restaurant', 'Sushi takeaway',\n",
       "       'Florist', 'Nasi restaurant', 'Breakfast restaurant',\n",
       "       'Dumpling restaurant', 'Sushi restaurant', 'Family restaurant',\n",
       "       'Island', 'Sichuan restaurant', 'Polynesian restaurant',\n",
       "       'Lebanese restaurant', 'Swiss restaurant', 'Momo restaurant',\n",
       "       'Indian takeaway', 'Dog cafe', 'Country club',\n",
       "       'Real estate agency', 'Pancake restaurant', 'Dessert restaurant',\n",
       "       'Preschool', 'Organic food store', 'Brazilian restaurant',\n",
       "       'Fish & chips restaurant', 'Japanese confectionery shop', 'Park',\n",
       "       'Music school', 'Food broker', 'Civic center',\n",
       "       'Wildlife and safari park', 'Professional association', 'College',\n",
       "       'Zoo', 'Patisserie', 'Lounge',\n",
       "       'Sukiyaki and Shabu Shabu restaurant', 'Ethnic restaurant',\n",
       "       'Soup shop', 'Hakka restaurant', 'Seafood donburi restaurant',\n",
       "       'Pub', 'French steakhouse restaurant', 'Market',\n",
       "       'Argentinian restaurant', 'Jeweler', 'Brewpub', 'Watch store',\n",
       "       'Bar restaurant furniture store', 'Tempura restaurant',\n",
       "       'Carnival club', 'Japanese steakhouse', 'Izakaya restaurant',\n",
       "       'Tourist attraction', 'German restaurant',\n",
       "       'Fish and seafood restaurant', 'Gluten-free restaurant',\n",
       "       'Punjabi restaurant', 'Tapas restaurant',\n",
       "       'Adventure sports center', 'Computer support and services',\n",
       "       'Marketing agency', 'Club', 'Event venue', 'Steamed bun shop',\n",
       "       'Catering food and drink supplier', 'Vegan restaurant',\n",
       "       'Turkish restaurant', 'Food and beverage consultant',\n",
       "       'Sri Lankan restaurant', 'Egyptian restaurant',\n",
       "       'Shabu-shabu restaurant', 'Buddhist temple', 'Wedding venue',\n",
       "       'Shanghainese restaurant', 'Modern Indian restaurant', 'Airline',\n",
       "       'Furniture store', 'Industrial area', 'School',\n",
       "       'Holiday apartment rental', 'South Asian restaurant', 'Crêperie',\n",
       "       'Japanese sweets restaurant', 'Self service restaurant',\n",
       "       'Beverage distributor', 'Tea house', 'Travel lounge', 'Book store',\n",
       "       'Telecommunications service provider', 'Cell phone store',\n",
       "       'Biotechnology company', 'Art gallery', 'Laboratory',\n",
       "       'Shipping service', 'Chicken wings restaurant', 'Corporate campus',\n",
       "       'Construction company', 'Car repair and maintenance',\n",
       "       'General store', 'Chemical plant', 'Japanese cheap sweets shop',\n",
       "       'University', 'Gambling house', 'Apartment building',\n",
       "       'Souvenir store', 'Chicken shop', 'Barber shop', 'Chocolate shop',\n",
       "       'Theme park', 'Condominium complex', 'Chettinad restaurant',\n",
       "       'Country food restaurant', 'Food manufacturing supply',\n",
       "       'Shandong restaurant', 'Butcher shop', 'Wok restaurant',\n",
       "       'Research and product development', 'Raw food restaurant',\n",
       "       'Satay restaurant', 'Grill', 'Nepalese restaurant', 'Shrine',\n",
       "       'Supermarket', 'Meat products', 'Public housing',\n",
       "       'FMCG manufacturer', 'East Javanese restaurant',\n",
       "       'North Eastern Indian restaurant', 'Sporting goods store',\n",
       "       'Beer distributor', 'Padang restaurant', 'Heritage museum',\n",
       "       'Subway station', 'Taoist temple', 'Museum', 'Hypermarket',\n",
       "       'New American restaurant', 'Gym', 'Udon noodle restaurant',\n",
       "       'Duty free store', 'Amusement center', 'Sailing club', 'Tea store',\n",
       "       'Pretzel store', 'Takeout restaurant', 'Hairdresser', 'Deli',\n",
       "       'Teppanyaki restaurant', 'Confectionery',\n",
       "       'Latin American restaurant', 'Live music venue', 'Chocolate cafe',\n",
       "       'Shared-use commercial kitchen', 'Eclectic restaurant',\n",
       "       'Beer store', 'Snack bar', 'Shoe store', 'Hawaiian restaurant',\n",
       "       'British restaurant', 'Chinese bakery', 'Churreria', 'Rest stop',\n",
       "       'Wine store', 'Hindu temple', 'Catalonian restaurant',\n",
       "       'Moving and storage service', 'Pharmaceutical company',\n",
       "       'E-commerce service', 'Department store', 'Spa',\n",
       "       'Swedish restaurant', 'Art museum', 'Monument', 'Oil refinery',\n",
       "       'Kaiseki restaurant', 'Modern Australian restaurant',\n",
       "       'Machine workshop', 'Safety equipment supplier', 'Beach',\n",
       "       'Golf club', 'Interior designer', 'Wine bar', 'Holding company',\n",
       "       'Historical landmark', 'Seafood market', 'Leisure centre', 'Bay',\n",
       "       'Hotel', 'Private hospital', 'Pakistani restaurant',\n",
       "       'African restaurant', 'Electrical substation', 'Coffee roasters',\n",
       "       'Money transfer service', 'Electronics store',\n",
       "       'Audio visual equipment supplier', 'Kushiyaki restaurant',\n",
       "       'Fujian restaurant', 'Lodging', 'Crab house', 'Movie theater',\n",
       "       'Software company', 'Event management company', 'Outlet mall',\n",
       "       'Bar tabac'], dtype=object)"
      ]
     },
     "metadata": {},
     "execution_count": 12
    }
   ],
   "source": [
    "res.category.unique()"
   ]
  },
  {
   "cell_type": "code",
   "execution_count": 13,
   "metadata": {},
   "outputs": [
    {
     "output_type": "execute_result",
     "data": {
      "text/plain": [
       "                                   title                 category  \\\n",
       "5                        YOTEL Singapore                            \n",
       "9                        Amara Singapore                            \n",
       "11    Air Liquide Singapore Pte Ltd (J2)  Industrial gas supplier   \n",
       "17                  IPAG HUB Air Liquide  Industrial gas supplier   \n",
       "18  Andaz Singapore - a concept by Hyatt                            \n",
       "\n",
       "                                 address     locatedin              street  \\\n",
       "5       366 Orchard Rd, Singapore 238904          None      366 Orchard Rd   \n",
       "9      165 Tg Pagar Rd, Singapore 088539        100 AM     165 Tg Pagar Rd   \n",
       "11        16 Jln Buroh, Singapore 619475          None        16 Jln Buroh   \n",
       "17  1 Tuas South Place, Singapore 636764          None  1 Tuas South Place   \n",
       "18         5 Fraser St, Singapore 189354  DUO Galleria         5 Fraser St   \n",
       "\n",
       "         city postalcode countrycode                    website  \\\n",
       "5   Singapore     238904          SG                  yotel.com   \n",
       "9   Singapore     088539          SG  singapore.amarahotels.com   \n",
       "11  Singapore     619475          SG             airliquide.com   \n",
       "17  Singapore     636764          SG             airliquide.com   \n",
       "18  Singapore     189354          SG                  hyatt.com   \n",
       "\n",
       "                                                  url          phone  \\\n",
       "5   https://www.google.com/maps/place/YOTEL+Singap...  +65 6866 8000   \n",
       "9   https://www.google.com/maps/place/Amara+Singap...  +65 6879 2555   \n",
       "11  https://www.google.com/maps/place/Air+Liquide+...           None   \n",
       "17  https://www.google.com/maps/place/IPAG+HUB+Air...  +65 6265 3788   \n",
       "18  https://www.google.com/maps/place/Andaz+Singap...  +65 6408 1234   \n",
       "\n",
       "   permclosed     ad  score                      placeid       lat  \\\n",
       "5       False  False    4.4  ChIJdeB0FI0Z2jERfMMx7jtAfsg  1.306441   \n",
       "9       False  False    4.2  ChIJrXZUXmsZ2jERdZPWv7o3QHA  1.274754   \n",
       "11      False  False    3.4  ChIJoQQIR2oF2jERSacEAMT_oxo  1.313467   \n",
       "17      False  False    NaN  ChIJFVakuGkH2jER--xFLKBGLgA  1.266385   \n",
       "18      False  False    4.5  ChIJB87pIbAZ2jERwfGaus_7am8  1.299265   \n",
       "\n",
       "           lng  reviewsno  onestar  twostar  threestar  fourstar  fivestar  \n",
       "5   103.831243     2811.0     75.0     70.0      221.0     876.0    1569.0  \n",
       "9   103.843534     2750.0     54.0     64.0      380.0    1089.0    1163.0  \n",
       "11  103.703549        5.0      1.0      0.0        1.0       2.0       1.0  \n",
       "17  103.623471        0.0      0.0      0.0        0.0       0.0       0.0  \n",
       "18  103.858170     2532.0     74.0     36.0      122.0     590.0    1710.0  "
      ],
      "text/html": "<div>\n<style scoped>\n    .dataframe tbody tr th:only-of-type {\n        vertical-align: middle;\n    }\n\n    .dataframe tbody tr th {\n        vertical-align: top;\n    }\n\n    .dataframe thead th {\n        text-align: right;\n    }\n</style>\n<table border=\"1\" class=\"dataframe\">\n  <thead>\n    <tr style=\"text-align: right;\">\n      <th></th>\n      <th>title</th>\n      <th>category</th>\n      <th>address</th>\n      <th>locatedin</th>\n      <th>street</th>\n      <th>city</th>\n      <th>postalcode</th>\n      <th>countrycode</th>\n      <th>website</th>\n      <th>url</th>\n      <th>phone</th>\n      <th>permclosed</th>\n      <th>ad</th>\n      <th>score</th>\n      <th>placeid</th>\n      <th>lat</th>\n      <th>lng</th>\n      <th>reviewsno</th>\n      <th>onestar</th>\n      <th>twostar</th>\n      <th>threestar</th>\n      <th>fourstar</th>\n      <th>fivestar</th>\n    </tr>\n  </thead>\n  <tbody>\n    <tr>\n      <th>5</th>\n      <td>YOTEL Singapore</td>\n      <td></td>\n      <td>366 Orchard Rd, Singapore 238904</td>\n      <td>None</td>\n      <td>366 Orchard Rd</td>\n      <td>Singapore</td>\n      <td>238904</td>\n      <td>SG</td>\n      <td>yotel.com</td>\n      <td>https://www.google.com/maps/place/YOTEL+Singap...</td>\n      <td>+65 6866 8000</td>\n      <td>False</td>\n      <td>False</td>\n      <td>4.4</td>\n      <td>ChIJdeB0FI0Z2jERfMMx7jtAfsg</td>\n      <td>1.306441</td>\n      <td>103.831243</td>\n      <td>2811.0</td>\n      <td>75.0</td>\n      <td>70.0</td>\n      <td>221.0</td>\n      <td>876.0</td>\n      <td>1569.0</td>\n    </tr>\n    <tr>\n      <th>9</th>\n      <td>Amara Singapore</td>\n      <td></td>\n      <td>165 Tg Pagar Rd, Singapore 088539</td>\n      <td>100 AM</td>\n      <td>165 Tg Pagar Rd</td>\n      <td>Singapore</td>\n      <td>088539</td>\n      <td>SG</td>\n      <td>singapore.amarahotels.com</td>\n      <td>https://www.google.com/maps/place/Amara+Singap...</td>\n      <td>+65 6879 2555</td>\n      <td>False</td>\n      <td>False</td>\n      <td>4.2</td>\n      <td>ChIJrXZUXmsZ2jERdZPWv7o3QHA</td>\n      <td>1.274754</td>\n      <td>103.843534</td>\n      <td>2750.0</td>\n      <td>54.0</td>\n      <td>64.0</td>\n      <td>380.0</td>\n      <td>1089.0</td>\n      <td>1163.0</td>\n    </tr>\n    <tr>\n      <th>11</th>\n      <td>Air Liquide Singapore Pte Ltd (J2)</td>\n      <td>Industrial gas supplier</td>\n      <td>16 Jln Buroh, Singapore 619475</td>\n      <td>None</td>\n      <td>16 Jln Buroh</td>\n      <td>Singapore</td>\n      <td>619475</td>\n      <td>SG</td>\n      <td>airliquide.com</td>\n      <td>https://www.google.com/maps/place/Air+Liquide+...</td>\n      <td>None</td>\n      <td>False</td>\n      <td>False</td>\n      <td>3.4</td>\n      <td>ChIJoQQIR2oF2jERSacEAMT_oxo</td>\n      <td>1.313467</td>\n      <td>103.703549</td>\n      <td>5.0</td>\n      <td>1.0</td>\n      <td>0.0</td>\n      <td>1.0</td>\n      <td>2.0</td>\n      <td>1.0</td>\n    </tr>\n    <tr>\n      <th>17</th>\n      <td>IPAG HUB Air Liquide</td>\n      <td>Industrial gas supplier</td>\n      <td>1 Tuas South Place, Singapore 636764</td>\n      <td>None</td>\n      <td>1 Tuas South Place</td>\n      <td>Singapore</td>\n      <td>636764</td>\n      <td>SG</td>\n      <td>airliquide.com</td>\n      <td>https://www.google.com/maps/place/IPAG+HUB+Air...</td>\n      <td>+65 6265 3788</td>\n      <td>False</td>\n      <td>False</td>\n      <td>NaN</td>\n      <td>ChIJFVakuGkH2jER--xFLKBGLgA</td>\n      <td>1.266385</td>\n      <td>103.623471</td>\n      <td>0.0</td>\n      <td>0.0</td>\n      <td>0.0</td>\n      <td>0.0</td>\n      <td>0.0</td>\n      <td>0.0</td>\n    </tr>\n    <tr>\n      <th>18</th>\n      <td>Andaz Singapore - a concept by Hyatt</td>\n      <td></td>\n      <td>5 Fraser St, Singapore 189354</td>\n      <td>DUO Galleria</td>\n      <td>5 Fraser St</td>\n      <td>Singapore</td>\n      <td>189354</td>\n      <td>SG</td>\n      <td>hyatt.com</td>\n      <td>https://www.google.com/maps/place/Andaz+Singap...</td>\n      <td>+65 6408 1234</td>\n      <td>False</td>\n      <td>False</td>\n      <td>4.5</td>\n      <td>ChIJB87pIbAZ2jERwfGaus_7am8</td>\n      <td>1.299265</td>\n      <td>103.858170</td>\n      <td>2532.0</td>\n      <td>74.0</td>\n      <td>36.0</td>\n      <td>122.0</td>\n      <td>590.0</td>\n      <td>1710.0</td>\n    </tr>\n  </tbody>\n</table>\n</div>"
     },
     "metadata": {},
     "execution_count": 13
    }
   ],
   "source": [
    "res[~res.category.str.contains('restaurant|hawker|bar|steak|coffee|pub|food|cafe|bakery|pizza|takeaway|dessert|salad|diner|grill|noodle|bistro|sandwich|crêperie|chicken|soup|deli|beer garden|live|churreria|crab|cream', case=False)].head()"
   ]
  },
  {
   "cell_type": "code",
   "execution_count": 14,
   "metadata": {},
   "outputs": [],
   "source": [
    "res.drop(res[~res.category.str.contains('restaurant|hawker|bar|steak|coffee|pub|food|cafe|bakery|pizza|takeaway|dessert|salad|diner|grill|noodle|bistro|sandwich|crêperie|chicken|soup|deli|beer garden|live|churreria|crab|cream', case=False)].index, inplace=True)"
   ]
  },
  {
   "cell_type": "code",
   "execution_count": 15,
   "metadata": {},
   "outputs": [
    {
     "output_type": "execute_result",
     "data": {
      "text/plain": [
       "array(['Cantonese restaurant', 'Restaurant', 'Asian fusion restaurant',\n",
       "       'Coffee shop', 'Barbecue restaurant', 'Bar', 'Fusion restaurant',\n",
       "       'Fast food restaurant', 'Modern European restaurant',\n",
       "       'Nyonya restaurant', 'Chinese restaurant', 'Seafood restaurant',\n",
       "       'Cocktail bar', 'Hawker stall', 'Hawker centre',\n",
       "       'Korean restaurant', 'Indian Muslim restaurant',\n",
       "       'Western restaurant', 'Thai restaurant', 'Indian restaurant',\n",
       "       'Korean barbecue restaurant', 'Okonomiyaki restaurant',\n",
       "       'Italian restaurant', 'Pan-Asian restaurant', 'Mexican restaurant',\n",
       "       'Asian restaurant', 'Fine dining restaurant', 'Steak house',\n",
       "       'Singaporean restaurant', 'Buffet restaurant',\n",
       "       'Vegetarian restaurant', 'American restaurant', 'Halal restaurant',\n",
       "       'Unagi restaurant', 'French restaurant',\n",
       "       'Mediterranean restaurant', 'Modern British restaurant',\n",
       "       'Haute French restaurant', 'Ramen restaurant', 'Food court',\n",
       "       'Cafe', 'Pizza restaurant', 'Pizza delivery', 'Chicken restaurant',\n",
       "       'Restaurant supply store', 'Cafeteria', 'Chinese takeaway',\n",
       "       'Sandwich shop', 'Delivery Restaurant', 'Japanese restaurant',\n",
       "       'Tex-Mex restaurant', 'Persian restaurant', 'Malaysian restaurant',\n",
       "       'Middle Eastern restaurant', 'Spanish restaurant',\n",
       "       'Modern French restaurant', 'Southeast Asian restaurant',\n",
       "       'Bar & grill', 'Authentic Japanese restaurant',\n",
       "       'Australian restaurant', 'Hong Kong style fast food restaurant',\n",
       "       'Takeout Restaurant', 'Chinese noodle restaurant',\n",
       "       'Traditional restaurant', 'Fried chicken takeaway',\n",
       "       'Southern Italian restaurant', 'Greek restaurant',\n",
       "       'Taiwanese restaurant', 'Japanese curry restaurant',\n",
       "       'Coffee store', 'Bangladeshi restaurant', 'Bakery',\n",
       "       'Vegetarian cafe and deli', 'Ice cream shop',\n",
       "       'Yakitori restaurant', 'Tempura donburi restaurant',\n",
       "       'Pizza Takeout', 'Diner', 'Conveyor belt sushi restaurant',\n",
       "       'Indonesian restaurant', 'Salad shop', 'Vietnamese restaurant',\n",
       "       'European restaurant', 'Tonkatsu restaurant',\n",
       "       'Porridge restaurant', 'Hot pot restaurant',\n",
       "       'Hamburger restaurant', 'Beer garden', 'Bistro',\n",
       "       'Health food restaurant', 'Dessert shop',\n",
       "       'Modern izakaya restaurants', 'Rice restaurant',\n",
       "       'Dim sum restaurant', 'Hoagie restaurant', 'Meat dish restaurant',\n",
       "       'Burmese restaurant', 'Hot dog restaurant', 'Noodle shop',\n",
       "       'Steamboat restaurant', 'Syokudo and Teishoku restaurant',\n",
       "       'Food products supplier', 'Filipino restaurant',\n",
       "       'Yakiniku restaurant', 'Gastropub', 'Soup restaurant',\n",
       "       'Oyster bar restaurant', 'Health food store', 'Food manufacturer',\n",
       "       'Takoyaki restaurant', 'Sushi takeaway', 'Nasi restaurant',\n",
       "       'Breakfast restaurant', 'Dumpling restaurant', 'Sushi restaurant',\n",
       "       'Family restaurant', 'Sichuan restaurant', 'Polynesian restaurant',\n",
       "       'Lebanese restaurant', 'Swiss restaurant', 'Momo restaurant',\n",
       "       'Indian takeaway', 'Dog cafe', 'Pancake restaurant',\n",
       "       'Dessert restaurant', 'Organic food store', 'Brazilian restaurant',\n",
       "       'Fish & chips restaurant', 'Food broker',\n",
       "       'Sukiyaki and Shabu Shabu restaurant', 'Ethnic restaurant',\n",
       "       'Soup shop', 'Hakka restaurant', 'Seafood donburi restaurant',\n",
       "       'Pub', 'French steakhouse restaurant', 'Argentinian restaurant',\n",
       "       'Brewpub', 'Bar restaurant furniture store', 'Tempura restaurant',\n",
       "       'Japanese steakhouse', 'Izakaya restaurant', 'German restaurant',\n",
       "       'Fish and seafood restaurant', 'Gluten-free restaurant',\n",
       "       'Punjabi restaurant', 'Tapas restaurant',\n",
       "       'Catering food and drink supplier', 'Vegan restaurant',\n",
       "       'Turkish restaurant', 'Food and beverage consultant',\n",
       "       'Sri Lankan restaurant', 'Egyptian restaurant',\n",
       "       'Shabu-shabu restaurant', 'Shanghainese restaurant',\n",
       "       'Modern Indian restaurant', 'South Asian restaurant', 'Crêperie',\n",
       "       'Japanese sweets restaurant', 'Self service restaurant',\n",
       "       'Chicken wings restaurant', 'Chicken shop', 'Barber shop',\n",
       "       'Chettinad restaurant', 'Country food restaurant',\n",
       "       'Food manufacturing supply', 'Shandong restaurant',\n",
       "       'Wok restaurant', 'Raw food restaurant', 'Satay restaurant',\n",
       "       'Grill', 'Nepalese restaurant', 'Public housing',\n",
       "       'East Javanese restaurant', 'North Eastern Indian restaurant',\n",
       "       'Padang restaurant', 'New American restaurant',\n",
       "       'Udon noodle restaurant', 'Takeout restaurant', 'Deli',\n",
       "       'Teppanyaki restaurant', 'Latin American restaurant',\n",
       "       'Live music venue', 'Chocolate cafe', 'Eclectic restaurant',\n",
       "       'Snack bar', 'Hawaiian restaurant', 'British restaurant',\n",
       "       'Chinese bakery', 'Churreria', 'Catalonian restaurant',\n",
       "       'Swedish restaurant', 'Kaiseki restaurant',\n",
       "       'Modern Australian restaurant', 'Wine bar', 'Seafood market',\n",
       "       'Pakistani restaurant', 'African restaurant', 'Coffee roasters',\n",
       "       'Kushiyaki restaurant', 'Fujian restaurant', 'Crab house',\n",
       "       'Bar tabac'], dtype=object)"
      ]
     },
     "metadata": {},
     "execution_count": 15
    }
   ],
   "source": [
    "res.category.unique()"
   ]
  },
  {
   "cell_type": "code",
   "execution_count": 16,
   "metadata": {},
   "outputs": [
    {
     "output_type": "execute_result",
     "data": {
      "text/plain": [
       "asmin Hair Studio   \n",
       "3299                             A. E. Tech Pte Ltd   \n",
       "3375             Kwong Satay Supply Store / Factory   \n",
       "3763               Block 459 HDB Yishun @Dew SPRING   \n",
       "4278                     No Signboard Holdings Ltd.   \n",
       "4568                             Lee Wee & Brothers   \n",
       "4980                                  Potato Corner   \n",
       "5006                               #01-51 Snack Bar   \n",
       "5144                              Quandoo Singapore   \n",
       "5582                          Fortun Ate Restaurant   \n",
       "6024      Sakunthala's Food Manufacturers Pte. Ltd.   \n",
       "6027                                 Ronnie Kitchen   \n",
       "6028                             Indoguna Singapore   \n",
       "6029                Nury Dian Xin Delight Pte. Ltd.   \n",
       "6299                               Wholesome Savour   \n",
       "6322                            Richie's Curry Puff   \n",
       "6417            Canadian 2 For 1 Pizza | Ang Mo Kio   \n",
       "\n",
       "                              category  \\\n",
       "192            Restaurant supply store   \n",
       "618            Restaurant supply store   \n",
       "785             Food products supplier   \n",
       "999                  Food manufacturer   \n",
       "1467                Organic food store   \n",
       "1578                       Food broker   \n",
       "1579            Food products supplier   \n",
       "1702           Restaurant supply store   \n",
       "1926    Bar restaurant furniture store   \n",
       "2063            Food products supplier   \n",
       "2105                 Food manufacturer   \n",
       "2116            Food products supplier   \n",
       "2134            Food products supplier   \n",
       "2210  Catering food and drink supplier   \n",
       "2371      Food and beverage consultant   \n",
       "2483                 Food manufacturer   \n",
       "2529            Food products supplier   \n",
       "2571  Catering food and drink supplier   \n",
       "3232  Catering food and drink supplier   \n",
       "3284                       Barber shop   \n",
       "3299            Food products supplier   \n",
       "3375         Food manufacturing supply   \n",
       "3763                    Public housing   \n",
       "4278      Food and beverage consultant   \n",
       "4568                 Food manufacturer   \n",
       "4980                         Snack bar   \n",
       "5006                         Snack bar   \n",
       "5144      Food and beverage consultant   \n",
       "5582  Catering food and drink supplier   \n",
       "6024                 Food manufacturer   \n",
       "6027  Catering food and drink supplier   \n",
       "6028            Food products supplier   \n",
       "6029                 Food manufacturer   \n",
       "6299                 Food manufacturer   \n",
       "6322  Catering food and drink supplier   \n",
       "6417      Food and beverage consultant   \n",
       "\n",
       "                                                address  \\\n",
       "192   8, tech park crescent, #01–08 Tuas South Ave 4...   \n",
       "618               35B Fishery Port Rd, Singapore 619744   \n",
       "785                  207A Pandan Loop, Singapore 128399   \n",
       "999             5 Mandai Link, #08-04, Singapore 728654   \n",
       "1467  14 Pasir Panjang #01-25, Wholesale Centre, Sin...   \n",
       "1578  1 Woodlands Square, #B1-K25 Causeway Point, Si...   \n",
       "1579                 300 Balestier Rd, Singapore 329737   \n",
       "1702   4 Woodlands Industrial Park E1, Singapore 757727   \n",
       "1926  163 Tanglin Rd, #03-17 Tanglin Mall, Singapore...   \n",
       "2063                       98 Amoy St, Singapore 069918   \n",
       "2105                27 Woodlands Link, Singapore 738732   \n",
       "2116  15 Woodlands Loop, #04-53 East Industrial Esta...   \n",
       "2134                15 Woodlands Loop, Singapore 738322   \n",
       "2210        8A Admiralty St, #06-33, FOODXCHANGE 757437   \n",
       "2371  380 Jln Besar, #13-06/07 ARC380, Singapore 209000   \n",
       "2483  23 Serangoon Central, #03-K11 NEX, Singapore 5...   \n",
       "2529  32 Tai Seng St, #07-01 RE&S Building, Singapor...   \n",
       "2571            35 Kallang Pudding Rd, Singapore 349314   \n",
       "3232           137 Potong Pasir Ave 3, Singapore 350137   \n",
       "3284  Block, 541 Jurong West Ave 1, #01-1046, Singap...   \n",
       "3299                   23 Chin Bee Rd, Singapore 619830   \n",
       "3375  20 Bukit Batok Cres, #11-17 Enterprise Centre,...   \n",
       "3763  459 Yishun Ave 11, Block 459 HDB Yishun, Singa...   \n",
       "4278  10 Ubi Cres, #05-76 Ubi Techpark, Singapore 40...   \n",
       "4568    4 Tampines Central 5, B1 - K6, Singapore 529510   \n",
       "4980        78 Airport Blvd., #B2-264, Singapore 819666   \n",
       "5006  2 Changi Village Rd, #01-51 Changi Village Haw...   \n",
       "5144  77 Robinson Rd, #27-01 Robinson 77, Singapore ...   \n",
       "5582       8A Admiralty St, #06-22/23, Singapore 757437   \n",
       "6024                  8A Admiralty St, Singapore 757437   \n",
       "6027  8A Admiralty St, #06-07 Ronnie Kitchen, Singap...   \n",
       "6028              38 Senoko Dr, 34/36, Singapore 758221   \n",
       "6029  8A Admiralty St, #07-34 Food Xchange @ Admiral...   \n",
       "6299              112 Yio Chu Kang Rd, Singapore 545580   \n",
       "6322        498 Jurong West Street 41, Singapore 640498   \n",
       "6417  Ang Mo Kio Ave 1, #01-1591 BLK 339, Singapore ...   \n",
       "\n",
       "                                              locatedin  \\\n",
       "192                                                None   \n",
       "618                                                None   \n",
       "785                                                None   \n",
       "999                                                None   \n",
       "1467                                               None   \n",
       "1578                                     Causeway Point   \n",
       "1579                                               None   \n",
       "1702                                               None   \n",
       "1926                                       Tanglin Mall   \n",
       "2063                                  Chinatown Complex   \n",
       "2105                                               None   \n",
       "2116                                               None   \n",
       "2134                                               None   \n",
       "2210  Ji De Chi Dessert 記得吃甜品 @ Food Xchange (So Nic...   \n",
       "2371                        Bgain @ Lavender Food Court   \n",
       "2483                                                NEX   \n",
       "2529                                               None   \n",
       "2571                                               None   \n",
       "3232                                               None   \n",
       "3284                                               None   \n",
       "3299                                               None   \n",
       "3375                           杂货店 www.zahuodian.com.sg   \n",
       "3763                                               None   \n",
       "4278                                               None   \n",
       "4568                                      Tampines Mall   \n",
       "4980                               Jewel Changi Airport   \n",
       "5006                       Changi Village Hawker Centre   \n",
       "5144                                               None   \n",
       "5582                            FoodXchange @ Admiralty   \n",
       "6024                                               None   \n",
       "6027                                               None   \n",
       "6028                                               None   \n",
       "6029                                               None   \n",
       "6299                                               None   \n",
       "6322                                               None   \n",
       "6417                                               None   \n",
       "\n",
       "                                                 street         city  \\\n",
       "192      8, tech park crescent, #01–08 Tuas South Ave 4    Singapore   \n",
       "618                                 35B Fishery Port Rd    Singapore   \n",
       "785                                    207A Pandan Loop    Singapore   \n",
       "999                               5 Mandai Link, #08-04    Singapore   \n",
       "1467          14 Pasir Panjang #01-25, Wholesale Centre    Singapore   \n",
       "1578         1 Woodlands Square, #B1-K25 Causeway Point    Singapore   \n",
       "1579                                   300 Balestier Rd    Singapore   \n",
       "1702                     4 Woodlands Industrial Park E1    Singapore   \n",
       "1926                163 Tanglin Rd, #03-17 Tanglin Mall    Singapore   \n",
       "2063                                         98 Amoy St    Singapore   \n",
       "2105                                  27 Woodlands Link    Singapore   \n",
       "2116   15 Woodlands Loop, #04-53 East Industrial Estate    Singapore   \n",
       "2134                                  15 Woodlands Loop    Singapore   \n",
       "2210                            8A Admiralty St, #06-33  FOODXCHANGE   \n",
       "2371                    380 Jln Besar, #13-06/07 ARC380    Singapore   \n",
       "2483                  23 Serangoon Central, #03-K11 NEX    Singapore   \n",
       "2529               32 Tai Seng St, #07-01 RE&S Building    Singapore   \n",
       "2571                              35 Kallang Pudding Rd    Singapore   \n",
       "3232                             137 Potong Pasir Ave 3    Singapore   \n",
       "3284             Block, 541 Jurong West Ave 1, #01-1046    Singapore   \n",
       "3299                                     23 Chin Bee Rd    Singapore   \n",
       "3375      20 Bukit Batok Cres, #11-17 Enterprise Centre    Singapore   \n",
       "3763            459 Yishun Ave 11, Block 459 HDB Yishun    Singapore   \n",
       "4278                   10 Ubi Cres, #05-76 Ubi Techpark    Singapore   \n",
       "4568                      4 Tampines Central 5, B1 - K6    Singapore   \n",
       "4980                          78 Airport Blvd., #B2-264    Singapore   \n",
       "5006  2 Changi Village Rd, #01-51 Changi Village Haw...    Singapore   \n",
       "5144                 77 Robinson Rd, #27-01 Robinson 77    Singapore   \n",
       "5582                         8A Admiralty St, #06-22/23    Singapore   \n",
       "6024                                    8A Admiralty St    Singapore   \n",
       "6027             8A Admiralty St, #06-07 Ronnie Kitchen    Singapore   \n",
       "6028                                38 Senoko Dr, 34/36    Singapore   \n",
       "6029   8A Admiralty St, #07-34 Food Xchange @ Admiralty    Singapore   \n",
       "6299                                112 Yio Chu Kang Rd    Singapore   \n",
       "6322                          498 Jurong West Street 41    Singapore   \n",
       "6417                 Ang Mo Kio Ave 1, #01-1591 BLK 339    Singapore   \n",
       "\n",
       "     postalcode countrycode                   website  \\\n",
       "192      638124          SG             business.site   \n",
       "618      619744          SG             makanmate.com   \n",
       "785      128399          SG                      None   \n",
       "999      728654          SG            youtiaoman.com   \n",
       "1467     110014          SG             zenxin.com.sg   \n",
       "1578     738099          SG                      None   \n",
       "1579     329737          SG           dongyuan.com.sg   \n",
       "1702     757727          SG                      None   \n",
       "1926     247933          SG           houseofanli.com   \n",
       "2063     069918          SG                      None   \n",
       "2105     738732          SG         changcheng.com.sg   \n",
       "2116     738322          SG              facebook.com   \n",
       "2134     738322          SG                      None   \n",
       "2210     757437          SG                      None   \n",
       "2371     209000          SG                      None   \n",
       "2483     556083          SG        leeweebrothers.com   \n",
       "2529     533972          SG                res.com.sg   \n",
       "2571     349314          SG             monstabbq.com   \n",
       "3232     350137          SG                      None   \n",
       "3284     640541          SG                      None   \n",
       "3299     619830          SG                      None   \n",
       "3375     658080          SG         kwongsatay.com.sg   \n",
       "3763     760459          SG                hdb.gov.sg   \n",
       "4278     408564          SG    nosignboardseafood.com   \n",
       "4568     529510          SG        leeweebrothers.com   \n",
       "4980     819666          SG                      None   \n",
       "5006     500002          SG                      None   \n",
       "5144     068896          SG  quandoo.sg      website4   \n",
       "5582     757437          SG            fortun-ate.com   \n",
       "6024     757437          SG           sakunthalas.com   \n",
       "6027     757437          SG      ronniekitchen.com.sg   \n",
       "6028     758221          SG              indoguna.com   \n",
       "6029     757437          SG           nurydianxin.com   \n",
       "6299     545580          SG       wholesomesavour.com   \n",
       "6322     640498          SG              facebook.com   \n",
       "6417     560339          SG        canadian-pizza.com   \n",
       "\n",
       "                                                    url            phone  \\\n",
       "192   https://www.google.com/maps/place/Kirubai+rest...    +65 9470 6310   \n",
       "618   https://www.google.com/maps/place/Makan+Mate+C...    +65 6264 2233   \n",
       "785   https://www.google.com/maps/place/Seng+Chew+Pa...    +65 6775 4741   \n",
       "999   https://www.google.com/maps/place/You+Tiao+Man...    +65 6256 7288   \n",
       "1467  https://www.google.com/maps/place/Zenxin+Organ...    +65 6778 7369   \n",
       "1578  https://www.google.com/maps/place/Hokkaido+Bak...    +65 6760 3757   \n",
       "1579  https://www.google.com/maps/place/Eastern+Rice...    +65 6352 6283   \n",
       "1702  https://www.google.com/maps/place/United+Pte+L...    +65 6365 6703   \n",
       "1926  https://www.google.com/maps/place/House+of+AnL...    +65 6235 3851   \n",
       "2063  https://www.google.com/maps/place/Tuk+Tuk+Thai...    +65 6223 4538   \n",
       "2105  https://www.google.com/maps/place/Chang+Cheng+...    +65 6501 5285   \n",
       "2116  https://www.google.com/maps/place/Hup+Seng+Hen...    +65 9637 1425   \n",
       "2134  https://www.google.com/maps/place/Albany+Food+...    +65 6853 4483   \n",
       "2210  https://www.google.com/maps/place/Paradise+Res...    +65 9100 2206   \n",
       "2371  https://www.google.com/maps/place/Emmanuel+Str...    +65 6438 7997   \n",
       "2483  https://www.google.com/maps/place/Lee+Wee+%26+...    +65 6535 6535   \n",
       "2529  https://www.google.com/maps/place/RE%26S+Enter...    +65 6252 0810   \n",
       "2571  https://www.google.com/maps/place/MonstaBBQ+(B...    +65 8826 8639   \n",
       "3232  https://www.google.com/maps/place/The+Baba+Cur...    +65 6345 5225   \n",
       "3284  https://www.google.com/maps/place/Al+Yasmin+Ha...  +60 16-444 7900   \n",
       "3299  https://www.google.com/maps/place/A.+E.+Tech+P...    +65 6265 7550   \n",
       "3375  https://www.google.com/maps/place/Kwong+Satay+...    +65 6565 0002   \n",
       "3763  https://www.google.com/maps/place/Block+459+HD...             None   \n",
       "4278  https://www.google.com/maps/place/No+Signboard...    +65 6749 9959   \n",
       "4568  https://www.google.com/maps/place/Lee+Wee+%26+...    +65 6535 6535   \n",
       "4980  https://www.google.com/maps/place/Potato+Corne...             None   \n",
       "5006  https://www.google.com/maps/place/%2301-51+Sna...             None   \n",
       "5144  https://www.google.com/maps/place/Quandoo+Sing...    +65 3165 5044   \n",
       "5582  https://www.google.com/maps/place/Fortun+Ate+R...    +65 6570 8384   \n",
       "6024  https://www.google.com/maps/place/Sakunthala's...    +65 6659 8440   \n",
       "6027  https://www.google.com/maps/place/Ronnie+Kitch...    +65 6753 1003   \n",
       "6028  https://www.google.com/maps/place/Indoguna+Sin...    +65 6755 0330   \n",
       "6029  https://www.google.com/maps/place/Nury+Dian+Xi...    +65 6564 5667   \n",
       "6299  https://www.google.com/maps/place/Wholesome+Sa...    +65 9116 9928   \n",
       "6322  https://www.google.com/maps/place/Richie's+Cur...    +65 6345 5225   \n",
       "6417  https://www.google.com/maps/place/Canadian+2+F...    +65 6265 6562   \n",
       "\n",
       "     permclosed     ad  score                      placeid       lat  \\\n",
       "192       False  False    5.0  ChIJTfTcLfoH2jER2DVv2ETrzVQ  1.311868   \n",
       "618       False  False    NaN  ChIJxWDhBjYF2jERNHgQgxbETzc  1.307229   \n",
       "785       False  False    NaN  ChIJzQw85JUa2jERwY7xKhvGZGs  1.312571   \n",
       "999       False  False    4.9  ChIJjZxlLGgX2jERFY4XZ5-JDTw  1.409825   \n",
       "1467      False  False    4.2  ChIJs9Vo16sb2jEREH2eUBWB22s  1.284934   \n",
       "1578      False  False    3.0  ChIJyaLV1RQT2jER3aUcFdp-oUY  1.436012   \n",
       "1579      False  False    3.2  ChIJ6eSTE9kZ2jERX0SihemdL9k  1.323228   \n",
       "1702      False  False    5.0  ChIJE4R7hhMT2jERV6_wMpEjZjI  1.453242   \n",
       "1926      False  False    3.8  ChIJP45TU1EX2jERvKeej48DLPk  1.305046   \n",
       "2063      False  False    NaN  ChIJJ7PMCA0Z2jERPRKtjNImveA  1.281419   \n",
       "2105      False  False    4.0  ChIJPV7d62UT2jERsmG5ANFP678  1.452496   \n",
       "2116      False  False    5.0  ChIJ7WVSHHAT2jERVq93bCaZS60  1.448797   \n",
       "2134      False  False    NaN  ChIJaz6yHXAT2jERl_68qz3z7GY  1.448570   \n",
       "2210      False  False    2.0  ChIJuwGl9FsT2jERum2ojbWbKiw  1.463053   \n",
       "2371      False  False    NaN  ChIJfySfe3UZ2jERY2x7keEXcSo  1.313446   \n",
       "2483      False  False    2.5  ChIJeS1mv6YX2jERnCQXj-N-9L4  1.350769   \n",
       "2529      False  False    3.3  ChIJmz_7Q40X2jERoYiCmDNG-c4  1.334675   \n",
       "2571      False  False    4.7  ChIJqWvlY-kP2jERjFGak1e-MwI  1.329837   \n",
       "3232      False  False    4.4  ChIJI5blWyUY2jERkcLB1VNfR6Y  1.333871   \n",
       "3284      False  False    4.3  ChIJGQ9GPOAP2jERT7XGUWgDdR8  1.351084   \n",
       "3299      False  False    NaN  ChIJPeA1rfYP2jER2px9JcewWb8  1.331960   \n",
       "3375      False  False    4.5  ChIJzX8R020Q2jER5gDQig7kV9o  1.338524   \n",
       "3763      False  False    4.1  ChIJX6AWbUAU2jERFs-iNNzBPys  1.420947   \n",
       "4278      False  False    NaN  ChIJoR5TVNoZ2jER92Odp6Uqhhs  1.326251   \n",
       "4568      False  False    3.8  ChIJxaEs6xE92jERoAKfEbB4Xkk  1.352338   \n",
       "4980      False  False    3.4  ChIJZaZg14s82jERNONUzzbBW-4  1.360208   \n",
       "5006      False  False    NaN  ChIJz5OWHxc82jERNTUXQ2F91uY  1.389013   \n",
       "5144      False  False    2.0  ChIJQ8HgX20Z2jERTapv2m-P6ms  1.277801   \n",
       "5582      False  False    2.7  ChIJv_M_jVsT2jERnDKHJaiC85Y  1.463280   \n",
       "6024      False  False    5.0  ChIJQwCl9FsT2jER_rss-ssXdTw  1.463053   \n",
       "6027      False  False    3.4  ChIJJwpVi1sT2jERU_3zddC19bA  1.462946   \n",
       "6028      False  False    4.3  ChIJyW9yAEQT2jERFf6NqU2_YpA  1.463066   \n",
       "6029      False  False    NaN  ChIJQ6frzW0Q2jERs7aQiG-daxw  1.463079   \n",
       "6299      False  False    4.0  ChIJpVk-xDQX2jER8xo5gWcXOSs  1.358466   \n",
       "6322      False  False    3.3  ChIJ6wyKx94P2jER9SAQSsz6jmY  1.348485   \n",
       "6417      False  False    5.0  ChIJl1dTzd0X2jER7QOmU63-QlE  1.365220   \n",
       "\n",
       "             lng  reviewsno  onestar  twostar  threestar  fourstar  fivestar  \n",
       "192   103.629665        1.0      0.0      0.0        0.0       0.0       1.0  \n",
       "618   103.722922        0.0      0.0      0.0        0.0       0.0       0.0  \n",
       "785   103.753149        0.0      0.0      0.0        0.0       0.0       0.0  \n",
       "999   103.758171       21.0      0.0      0.0        0.0       3.0      18.0  \n",
       "1467  103.778886       45.0      3.0      1.0        6.0       9.0      26.0  \n",
       "1578  103.785928        2.0      1.0      0.0        0.0       0.0       1.0  \n",
       "1579  103.852534       23.0      6.0      2.0        4.0       4.0       7.0  \n",
       "1702  103.794978        1.0      0.0      0.0        0.0       0.0       1.0  \n",
       "1926  103.823599      195.0     21.0     16.0       25.0      47.0      86.0  \n",
       "2063  103.847297        0.0      0.0      0.0        0.0       0.0       0.0  \n",
       "2105  103.810849      336.0     19.0     17.0       61.0     105.0     134.0  \n",
       "2116  103.809038        1.0      0.0      0.0        0.0       0.0       1.0  \n",
       "2134  103.809174        0.0      0.0      0.0        0.0       0.0       0.0  \n",
       "2210  103.814437        1.0      0.0      1.0        0.0       0.0       0.0  \n",
       "2371  103.860528        0.0      0.0      0.0        0.0       0.0       0.0  \n",
       "2483  103.872397        4.0      1.0      2.0        0.0       0.0       1.0  \n",
       "2529  103.890368       21.0      8.0      1.0        0.0       1.0      11.0  \n",
       "2571  103.878282       11.0      0.0      0.0        0.0       3.0       8.0  \n",
       "3232  103.865871        5.0      0.0      1.0        0.0       0.0       4.0  \n",
       "3284  103.716080       18.0      3.0      0.0        0.0       1.0      14.0  \n",
       "3299  103.712169        0.0      0.0      0.0        0.0       0.0       0.0  \n",
       "3375  103.757082        6.0      0.0      0.0        1.0       1.0       4.0  \n",
       "3763  103.846376       16.0      1.0      1.0        3.0       1.0      10.0  \n",
       "4278  103.894031        0.0      0.0      0.0        0.0       0.0       0.0  \n",
       "4568  103.944777        8.0      1.0      1.0        1.0       1.0       4.0  \n",
       "4980  103.989759        8.0      3.0      0.0        0.0       1.0       4.0  \n",
       "5006  103.988170        0.0      0.0      0.0        0.0       0.0       0.0  \n",
       "5144  103.848339       28.0     20.0      1.0        0.0       1.0       6.0  \n",
       "5582  103.814290        3.0      1.0      1.0        0.0       0.0       1.0  \n",
       "6024  103.814437        1.0      0.0      0.0        0.0       0.0       1.0  \n",
       "6027  103.814200       23.0      9.0      0.0        0.0       1.0      13.0  \n",
       "6028  103.804311        9.0      1.0      0.0        0.0       2.0       6.0  \n",
       "6029  103.814743        0.0      0.0      0.0        0.0       0.0       0.0  \n",
       "6299  103.874685        1.0      0.0      0.0        0.0       1.0       0.0  \n",
       "6322  103.724104       36.0      8.0      3.0        7.0       6.0      12.0  \n",
       "6417  103.849111        2.0      0.0      0.0        0.0       0.0       2.0  "
      ],
      "text/html": "<div>\n<style scoped>\n    .dataframe tbody tr th:only-of-type {\n        vertical-align: middle;\n    }\n\n    .dataframe tbody tr th {\n        vertical-align: top;\n    }\n\n    .dataframe thead th {\n        text-align: right;\n    }\n</style>\n<table border=\"1\" class=\"dataframe\">\n  <thead>\n    <tr style=\"text-align: right;\">\n      <th></th>\n      <th>title</th>\n      <th>category</th>\n      <th>address</th>\n      <th>locatedin</th>\n      <th>street</th>\n      <th>city</th>\n      <th>postalcode</th>\n      <th>countrycode</th>\n      <th>website</th>\n      <th>url</th>\n      <th>phone</th>\n      <th>permclosed</th>\n      <th>ad</th>\n      <th>score</th>\n      <th>placeid</th>\n      <th>lat</th>\n      <th>lng</th>\n      <th>reviewsno</th>\n      <th>onestar</th>\n      <th>twostar</th>\n      <th>threestar</th>\n      <th>fourstar</th>\n      <th>fivestar</th>\n    </tr>\n  </thead>\n  <tbody>\n    <tr>\n      <th>192</th>\n      <td>Kirubai restaurant and caterings</td>\n      <td>Restaurant supply store</td>\n      <td>8, tech park crescent, #01–08 Tuas South Ave 4...</td>\n      <td>None</td>\n      <td>8, tech park crescent, #01–08 Tuas South Ave 4</td>\n      <td>Singapore</td>\n      <td>638124</td>\n      <td>SG</td>\n      <td>business.site</td>\n      <td>https://www.google.com/maps/place/Kirubai+rest...</td>\n      <td>+65 9470 6310</td>\n      <td>False</td>\n      <td>False</td>\n      <td>5.0</td>\n      <td>ChIJTfTcLfoH2jER2DVv2ETrzVQ</td>\n      <td>1.311868</td>\n      <td>103.629665</td>\n      <td>1.0</td>\n      <td>0.0</td>\n      <td>0.0</td>\n      <td>0.0</td>\n      <td>0.0</td>\n      <td>1.0</td>\n    </tr>\n    <tr>\n      <th>618</th>\n      <td>Makan Mate Catering Services</td>\n      <td>Restaurant supply store</td>\n      <td>35B Fishery Port Rd, Singapore 619744</td>\n      <td>None</td>\n      <td>35B Fishery Port Rd</td>\n      <td>Singapore</td>\n      <td>619744</td>\n      <td>SG</td>\n      <td>makanmate.com</td>\n      <td>https://www.google.com/maps/place/Makan+Mate+C...</td>\n      <td>+65 6264 2233</td>\n      <td>False</td>\n      <td>False</td>\n      <td>NaN</td>\n      <td>ChIJxWDhBjYF2jERNHgQgxbETzc</td>\n      <td>1.307229</td>\n      <td>103.722922</td>\n      <td>0.0</td>\n      <td>0.0</td>\n      <td>0.0</td>\n      <td>0.0</td>\n      <td>0.0</td>\n      <td>0.0</td>\n    </tr>\n    <tr>\n      <th>785</th>\n      <td>Seng Chew Pau Shop</td>\n      <td>Food products supplier</td>\n      <td>207A Pandan Loop, Singapore 128399</td>\n      <td>None</td>\n      <td>207A Pandan Loop</td>\n      <td>Singapore</td>\n      <td>128399</td>\n      <td>SG</td>\n      <td>None</td>\n      <td>https://www.google.com/maps/place/Seng+Chew+Pa...</td>\n      <td>+65 6775 4741</td>\n      <td>False</td>\n      <td>False</td>\n      <td>NaN</td>\n      <td>ChIJzQw85JUa2jERwY7xKhvGZGs</td>\n      <td>1.312571</td>\n      <td>103.753149</td>\n      <td>0.0</td>\n      <td>0.0</td>\n      <td>0.0</td>\n      <td>0.0</td>\n      <td>0.0</td>\n      <td>0.0</td>\n    </tr>\n    <tr>\n      <th>999</th>\n      <td>You Tiao Man</td>\n      <td>Food manufacturer</td>\n      <td>5 Mandai Link, #08-04, Singapore 728654</td>\n      <td>None</td>\n      <td>5 Mandai Link, #08-04</td>\n      <td>Singapore</td>\n      <td>728654</td>\n      <td>SG</td>\n      <td>youtiaoman.com</td>\n      <td>https://www.google.com/maps/place/You+Tiao+Man...</td>\n      <td>+65 6256 7288</td>\n      <td>False</td>\n      <td>False</td>\n      <td>4.9</td>\n      <td>ChIJjZxlLGgX2jERFY4XZ5-JDTw</td>\n      <td>1.409825</td>\n      <td>103.758171</td>\n      <td>21.0</td>\n      <td>0.0</td>\n      <td>0.0</td>\n      <td>0.0</td>\n      <td>3.0</td>\n      <td>18.0</td>\n    </tr>\n    <tr>\n      <th>1467</th>\n      <td>Zenxin Organic Food Singapore @ Pasir Panjang</td>\n      <td>Organic food store</td>\n      <td>14 Pasir Panjang #01-25, Wholesale Centre, Sin...</td>\n      <td>None</td>\n      <td>14 Pasir Panjang #01-25, Wholesale Centre</td>\n      <td>Singapore</td>\n      <td>110014</td>\n      <td>SG</td>\n      <td>zenxin.com.sg</td>\n      <td>https://www.google.com/maps/place/Zenxin+Organ...</td>\n      <td>+65 6778 7369</td>\n      <td>False</td>\n      <td>False</td>\n      <td>4.2</td>\n      <td>ChIJs9Vo16sb2jEREH2eUBWB22s</td>\n      <td>1.284934</td>\n      <td>103.778886</td>\n      <td>45.0</td>\n      <td>3.0</td>\n      <td>1.0</td>\n      <td>6.0</td>\n      <td>9.0</td>\n      <td>26.0</td>\n    </tr>\n    <tr>\n      <th>1578</th>\n      <td>Hokkaido Baked Cheese Tart</td>\n      <td>Food broker</td>\n      <td>1 Woodlands Square, #B1-K25 Causeway Point, Si...</td>\n      <td>Causeway Point</td>\n      <td>1 Woodlands Square, #B1-K25 Causeway Point</td>\n      <td>Singapore</td>\n      <td>738099</td>\n      <td>SG</td>\n      <td>None</td>\n      <td>https://www.google.com/maps/place/Hokkaido+Bak...</td>\n      <td>+65 6760 3757</td>\n      <td>False</td>\n      <td>False</td>\n      <td>3.0</td>\n      <td>ChIJyaLV1RQT2jER3aUcFdp-oUY</td>\n      <td>1.436012</td>\n      <td>103.785928</td>\n      <td>2.0</td>\n      <td>1.0</td>\n      <td>0.0</td>\n      <td>0.0</td>\n      <td>0.0</td>\n      <td>1.0</td>\n    </tr>\n    <tr>\n      <th>1579</th>\n      <td>Eastern Rice Dumpling | Dong Yuan Bak Chang</td>\n      <td>Food products supplier</td>\n      <td>300 Balestier Rd, Singapore 329737</td>\n      <td>None</td>\n      <td>300 Balestier Rd</td>\n      <td>Singapore</td>\n      <td>329737</td>\n      <td>SG</td>\n      <td>dongyuan.com.sg</td>\n      <td>https://www.google.com/maps/place/Eastern+Rice...</td>\n      <td>+65 6352 6283</td>\n      <td>False</td>\n      <td>False</td>\n      <td>3.2</td>\n      <td>ChIJ6eSTE9kZ2jERX0SihemdL9k</td>\n      <td>1.323228</td>\n      <td>103.852534</td>\n      <td>23.0</td>\n      <td>6.0</td>\n      <td>2.0</td>\n      <td>4.0</td>\n      <td>4.0</td>\n      <td>7.0</td>\n    </tr>\n    <tr>\n      <th>1702</th>\n      <td>United Pte Ltd</td>\n      <td>Restaurant supply store</td>\n      <td>4 Woodlands Industrial Park E1, Singapore 757727</td>\n      <td>None</td>\n      <td>4 Woodlands Industrial Park E1</td>\n      <td>Singapore</td>\n      <td>757727</td>\n      <td>SG</td>\n      <td>None</td>\n      <td>https://www.google.com/maps/place/United+Pte+L...</td>\n      <td>+65 6365 6703</td>\n      <td>False</td>\n      <td>False</td>\n      <td>5.0</td>\n      <td>ChIJE4R7hhMT2jERV6_wMpEjZjI</td>\n      <td>1.453242</td>\n      <td>103.794978</td>\n      <td>1.0</td>\n      <td>0.0</td>\n      <td>0.0</td>\n      <td>0.0</td>\n      <td>0.0</td>\n      <td>1.0</td>\n    </tr>\n    <tr>\n      <th>1926</th>\n      <td>House of AnLi</td>\n      <td>Bar restaurant furniture store</td>\n      <td>163 Tanglin Rd, #03-17 Tanglin Mall, Singapore...</td>\n      <td>Tanglin Mall</td>\n      <td>163 Tanglin Rd, #03-17 Tanglin Mall</td>\n      <td>Singapore</td>\n      <td>247933</td>\n      <td>SG</td>\n      <td>houseofanli.com</td>\n      <td>https://www.google.com/maps/place/House+of+AnL...</td>\n      <td>+65 6235 3851</td>\n      <td>False</td>\n      <td>False</td>\n      <td>3.8</td>\n      <td>ChIJP45TU1EX2jERvKeej48DLPk</td>\n      <td>1.305046</td>\n      <td>103.823599</td>\n      <td>195.0</td>\n      <td>21.0</td>\n      <td>16.0</td>\n      <td>25.0</td>\n      <td>47.0</td>\n      <td>86.0</td>\n    </tr>\n    <tr>\n      <th>2063</th>\n      <td>Tuk Tuk Thai Kitchen</td>\n      <td>Food products supplier</td>\n      <td>98 Amoy St, Singapore 069918</td>\n      <td>Chinatown Complex</td>\n      <td>98 Amoy St</td>\n      <td>Singapore</td>\n      <td>069918</td>\n      <td>SG</td>\n      <td>None</td>\n      <td>https://www.google.com/maps/place/Tuk+Tuk+Thai...</td>\n      <td>+65 6223 4538</td>\n      <td>False</td>\n      <td>False</td>\n      <td>NaN</td>\n      <td>ChIJJ7PMCA0Z2jERPRKtjNImveA</td>\n      <td>1.281419</td>\n      <td>103.847297</td>\n      <td>0.0</td>\n      <td>0.0</td>\n      <td>0.0</td>\n      <td>0.0</td>\n      <td>0.0</td>\n      <td>0.0</td>\n    </tr>\n    <tr>\n      <th>2105</th>\n      <td>Chang Cheng HQ</td>\n      <td>Food manufacturer</td>\n      <td>27 Woodlands Link, Singapore 738732</td>\n      <td>None</td>\n      <td>27 Woodlands Link</td>\n      <td>Singapore</td>\n      <td>738732</td>\n      <td>SG</td>\n      <td>changcheng.com.sg</td>\n      <td>https://www.google.com/maps/place/Chang+Cheng+...</td>\n      <td>+65 6501 5285</td>\n      <td>False</td>\n      <td>False</td>\n      <td>4.0</td>\n      <td>ChIJPV7d62UT2jERsmG5ANFP678</td>\n      <td>1.452496</td>\n      <td>103.810849</td>\n      <td>336.0</td>\n      <td>19.0</td>\n      <td>17.0</td>\n      <td>61.0</td>\n      <td>105.0</td>\n      <td>134.0</td>\n    </tr>\n    <tr>\n      <th>2116</th>\n      <td>Hup Seng Heng Restaurant</td>\n      <td>Food products supplier</td>\n      <td>15 Woodlands Loop, #04-53 East Industrial Esta...</td>\n      <td>None</td>\n      <td>15 Woodlands Loop, #04-53 East Industrial Estate</td>\n      <td>Singapore</td>\n      <td>738322</td>\n      <td>SG</td>\n      <td>facebook.com</td>\n      <td>https://www.google.com/maps/place/Hup+Seng+Hen...</td>\n      <td>+65 9637 1425</td>\n      <td>False</td>\n      <td>False</td>\n      <td>5.0</td>\n      <td>ChIJ7WVSHHAT2jERVq93bCaZS60</td>\n      <td>1.448797</td>\n      <td>103.809038</td>\n      <td>1.0</td>\n      <td>0.0</td>\n      <td>0.0</td>\n      <td>0.0</td>\n      <td>0.0</td>\n      <td>1.0</td>\n    </tr>\n    <tr>\n      <th>2134</th>\n      <td>Albany Food Industries Pte Ltd</td>\n      <td>Food products supplier</td>\n      <td>15 Woodlands Loop, Singapore 738322</td>\n      <td>None</td>\n      <td>15 Woodlands Loop</td>\n      <td>Singapore</td>\n      <td>738322</td>\n      <td>SG</td>\n      <td>None</td>\n      <td>https://www.google.com/maps/place/Albany+Food+...</td>\n      <td>+65 6853 4483</td>\n      <td>False</td>\n      <td>False</td>\n      <td>NaN</td>\n      <td>ChIJaz6yHXAT2jERl_68qz3z7GY</td>\n      <td>1.448570</td>\n      <td>103.809174</td>\n      <td>0.0</td>\n      <td>0.0</td>\n      <td>0.0</td>\n      <td>0.0</td>\n      <td>0.0</td>\n      <td>0.0</td>\n    </tr>\n    <tr>\n      <th>2210</th>\n      <td>Paradise Restaurant &amp; Catering Pte Ltd</td>\n      <td>Catering food and drink supplier</td>\n      <td>8A Admiralty St, #06-33, FOODXCHANGE 757437</td>\n      <td>Ji De Chi Dessert 記得吃甜品 @ Food Xchange (So Nic...</td>\n      <td>8A Admiralty St, #06-33</td>\n      <td>FOODXCHANGE</td>\n      <td>757437</td>\n      <td>SG</td>\n      <td>None</td>\n      <td>https://www.google.com/maps/place/Paradise+Res...</td>\n      <td>+65 9100 2206</td>\n      <td>False</td>\n      <td>False</td>\n      <td>2.0</td>\n      <td>ChIJuwGl9FsT2jERum2ojbWbKiw</td>\n      <td>1.463053</td>\n      <td>103.814437</td>\n      <td>1.0</td>\n      <td>0.0</td>\n      <td>1.0</td>\n      <td>0.0</td>\n      <td>0.0</td>\n      <td>0.0</td>\n    </tr>\n    <tr>\n      <th>2371</th>\n      <td>Emmanuel Stroobant Group</td>\n      <td>Food and beverage consultant</td>\n      <td>380 Jln Besar, #13-06/07 ARC380, Singapore 209000</td>\n      <td>Bgain @ Lavender Food Court</td>\n      <td>380 Jln Besar, #13-06/07 ARC380</td>\n      <td>Singapore</td>\n      <td>209000</td>\n      <td>SG</td>\n      <td>None</td>\n      <td>https://www.google.com/maps/place/Emmanuel+Str...</td>\n      <td>+65 6438 7997</td>\n      <td>False</td>\n      <td>False</td>\n      <td>NaN</td>\n      <td>ChIJfySfe3UZ2jERY2x7keEXcSo</td>\n      <td>1.313446</td>\n      <td>103.860528</td>\n      <td>0.0</td>\n      <td>0.0</td>\n      <td>0.0</td>\n      <td>0.0</td>\n      <td>0.0</td>\n      <td>0.0</td>\n    </tr>\n    <tr>\n      <th>2483</th>\n      <td>Lee Wee &amp; Brothers</td>\n      <td>Food manufacturer</td>\n      <td>23 Serangoon Central, #03-K11 NEX, Singapore 5...</td>\n      <td>NEX</td>\n      <td>23 Serangoon Central, #03-K11 NEX</td>\n      <td>Singapore</td>\n      <td>556083</td>\n      <td>SG</td>\n      <td>leeweebrothers.com</td>\n      <td>https://www.google.com/maps/place/Lee+Wee+%26+...</td>\n      <td>+65 6535 6535</td>\n      <td>False</td>\n      <td>False</td>\n      <td>2.5</td>\n      <td>ChIJeS1mv6YX2jERnCQXj-N-9L4</td>\n      <td>1.350769</td>\n      <td>103.872397</td>\n      <td>4.0</td>\n      <td>1.0</td>\n      <td>2.0</td>\n      <td>0.0</td>\n      <td>0.0</td>\n      <td>1.0</td>\n    </tr>\n    <tr>\n      <th>2529</th>\n      <td>RE&amp;S Enterprises Pte Ltd</td>\n      <td>Food products supplier</td>\n      <td>32 Tai Seng St, #07-01 RE&amp;S Building, Singapor...</td>\n      <td>None</td>\n      <td>32 Tai Seng St, #07-01 RE&amp;S Building</td>\n      <td>Singapore</td>\n      <td>533972</td>\n      <td>SG</td>\n      <td>res.com.sg</td>\n      <td>https://www.google.com/maps/place/RE%26S+Enter...</td>\n      <td>+65 6252 0810</td>\n      <td>False</td>\n      <td>False</td>\n      <td>3.3</td>\n      <td>ChIJmz_7Q40X2jERoYiCmDNG-c4</td>\n      <td>1.334675</td>\n      <td>103.890368</td>\n      <td>21.0</td>\n      <td>8.0</td>\n      <td>1.0</td>\n      <td>0.0</td>\n      <td>1.0</td>\n      <td>11.0</td>\n    </tr>\n    <tr>\n      <th>2571</th>\n      <td>MonstaBBQ (BBQ Catering)</td>\n      <td>Catering food and drink supplier</td>\n      <td>35 Kallang Pudding Rd, Singapore 349314</td>\n      <td>None</td>\n      <td>35 Kallang Pudding Rd</td>\n      <td>Singapore</td>\n      <td>349314</td>\n      <td>SG</td>\n      <td>monstabbq.com</td>\n      <td>https://www.google.com/maps/place/MonstaBBQ+(B...</td>\n      <td>+65 8826 8639</td>\n      <td>False</td>\n      <td>False</td>\n      <td>4.7</td>\n      <td>ChIJqWvlY-kP2jERjFGak1e-MwI</td>\n      <td>1.329837</td>\n      <td>103.878282</td>\n      <td>11.0</td>\n      <td>0.0</td>\n      <td>0.0</td>\n      <td>0.0</td>\n      <td>3.0</td>\n      <td>8.0</td>\n    </tr>\n    <tr>\n      <th>3232</th>\n      <td>The Baba Curry Puff Cafe</td>\n      <td>Catering food and drink supplier</td>\n      <td>137 Potong Pasir Ave 3, Singapore 350137</td>\n      <td>None</td>\n      <td>137 Potong Pasir Ave 3</td>\n      <td>Singapore</td>\n      <td>350137</td>\n      <td>SG</td>\n      <td>None</td>\n      <td>https://www.google.com/maps/place/The+Baba+Cur...</td>\n      <td>+65 6345 5225</td>\n      <td>False</td>\n      <td>False</td>\n      <td>4.4</td>\n      <td>ChIJI5blWyUY2jERkcLB1VNfR6Y</td>\n      <td>1.333871</td>\n      <td>103.865871</td>\n      <td>5.0</td>\n      <td>0.0</td>\n      <td>1.0</td>\n      <td>0.0</td>\n      <td>0.0</td>\n      <td>4.0</td>\n    </tr>\n    <tr>\n      <th>3284</th>\n      <td>Al Yasmin Hair Studio</td>\n      <td>Barber shop</td>\n      <td>Block, 541 Jurong West Ave 1, #01-1046, Singap...</td>\n      <td>None</td>\n      <td>Block, 541 Jurong West Ave 1, #01-1046</td>\n      <td>Singapore</td>\n      <td>640541</td>\n      <td>SG</td>\n      <td>None</td>\n      <td>https://www.google.com/maps/place/Al+Yasmin+Ha...</td>\n      <td>+60 16-444 7900</td>\n      <td>False</td>\n      <td>False</td>\n      <td>4.3</td>\n      <td>ChIJGQ9GPOAP2jERT7XGUWgDdR8</td>\n      <td>1.351084</td>\n      <td>103.716080</td>\n      <td>18.0</td>\n      <td>3.0</td>\n      <td>0.0</td>\n      <td>0.0</td>\n      <td>1.0</td>\n      <td>14.0</td>\n    </tr>\n    <tr>\n      <th>3299</th>\n      <td>A. E. Tech Pte Ltd</td>\n      <td>Food products supplier</td>\n      <td>23 Chin Bee Rd, Singapore 619830</td>\n      <td>None</td>\n      <td>23 Chin Bee Rd</td>\n      <td>Singapore</td>\n      <td>619830</td>\n      <td>SG</td>\n      <td>None</td>\n      <td>https://www.google.com/maps/place/A.+E.+Tech+P...</td>\n      <td>+65 6265 7550</td>\n      <td>False</td>\n      <td>False</td>\n      <td>NaN</td>\n      <td>ChIJPeA1rfYP2jER2px9JcewWb8</td>\n      <td>1.331960</td>\n      <td>103.712169</td>\n      <td>0.0</td>\n      <td>0.0</td>\n      <td>0.0</td>\n      <td>0.0</td>\n      <td>0.0</td>\n      <td>0.0</td>\n    </tr>\n    <tr>\n      <th>3375</th>\n      <td>Kwong Satay Supply Store / Factory</td>\n      <td>Food manufacturing supply</td>\n      <td>20 Bukit Batok Cres, #11-17 Enterprise Centre,...</td>\n      <td>杂货店 www.zahuodian.com.sg</td>\n      <td>20 Bukit Batok Cres, #11-17 Enterprise Centre</td>\n      <td>Singapore</td>\n      <td>658080</td>\n      <td>SG</td>\n      <td>kwongsatay.com.sg</td>\n      <td>https://www.google.com/maps/place/Kwong+Satay+...</td>\n      <td>+65 6565 0002</td>\n      <td>False</td>\n      <td>False</td>\n      <td>4.5</td>\n      <td>ChIJzX8R020Q2jER5gDQig7kV9o</td>\n      <td>1.338524</td>\n      <td>103.757082</td>\n      <td>6.0</td>\n      <td>0.0</td>\n      <td>0.0</td>\n      <td>1.0</td>\n      <td>1.0</td>\n      <td>4.0</td>\n    </tr>\n    <tr>\n      <th>3763</th>\n      <td>Block 459 HDB Yishun @Dew SPRING</td>\n      <td>Public housing</td>\n      <td>459 Yishun Ave 11, Block 459 HDB Yishun, Singa...</td>\n      <td>None</td>\n      <td>459 Yishun Ave 11, Block 459 HDB Yishun</td>\n      <td>Singapore</td>\n      <td>760459</td>\n      <td>SG</td>\n      <td>hdb.gov.sg</td>\n      <td>https://www.google.com/maps/place/Block+459+HD...</td>\n      <td>None</td>\n      <td>False</td>\n      <td>False</td>\n      <td>4.1</td>\n      <td>ChIJX6AWbUAU2jERFs-iNNzBPys</td>\n      <td>1.420947</td>\n      <td>103.846376</td>\n      <td>16.0</td>\n      <td>1.0</td>\n      <td>1.0</td>\n      <td>3.0</td>\n      <td>1.0</td>\n      <td>10.0</td>\n    </tr>\n    <tr>\n      <th>4278</th>\n      <td>No Signboard Holdings Ltd.</td>\n      <td>Food and beverage consultant</td>\n      <td>10 Ubi Cres, #05-76 Ubi Techpark, Singapore 40...</td>\n      <td>None</td>\n      <td>10 Ubi Cres, #05-76 Ubi Techpark</td>\n      <td>Singapore</td>\n      <td>408564</td>\n      <td>SG</td>\n      <td>nosignboardseafood.com</td>\n      <td>https://www.google.com/maps/place/No+Signboard...</td>\n      <td>+65 6749 9959</td>\n      <td>False</td>\n      <td>False</td>\n      <td>NaN</td>\n      <td>ChIJoR5TVNoZ2jER92Odp6Uqhhs</td>\n      <td>1.326251</td>\n      <td>103.894031</td>\n      <td>0.0</td>\n      <td>0.0</td>\n      <td>0.0</td>\n      <td>0.0</td>\n      <td>0.0</td>\n      <td>0.0</td>\n    </tr>\n    <tr>\n      <th>4568</th>\n      <td>Lee Wee &amp; Brothers</td>\n      <td>Food manufacturer</td>\n      <td>4 Tampines Central 5, B1 - K6, Singapore 529510</td>\n      <td>Tampines Mall</td>\n      <td>4 Tampines Central 5, B1 - K6</td>\n      <td>Singapore</td>\n      <td>529510</td>\n      <td>SG</td>\n      <td>leeweebrothers.com</td>\n      <td>https://www.google.com/maps/place/Lee+Wee+%26+...</td>\n      <td>+65 6535 6535</td>\n      <td>False</td>\n      <td>False</td>\n      <td>3.8</td>\n      <td>ChIJxaEs6xE92jERoAKfEbB4Xkk</td>\n      <td>1.352338</td>\n      <td>103.944777</td>\n      <td>8.0</td>\n      <td>1.0</td>\n      <td>1.0</td>\n      <td>1.0</td>\n      <td>1.0</td>\n      <td>4.0</td>\n    </tr>\n    <tr>\n      <th>4980</th>\n      <td>Potato Corner</td>\n      <td>Snack bar</td>\n      <td>78 Airport Blvd., #B2-264, Singapore 819666</td>\n      <td>Jewel Changi Airport</td>\n      <td>78 Airport Blvd., #B2-264</td>\n      <td>Singapore</td>\n      <td>819666</td>\n      <td>SG</td>\n      <td>None</td>\n      <td>https://www.google.com/maps/place/Potato+Corne...</td>\n      <td>None</td>\n      <td>False</td>\n      <td>False</td>\n      <td>3.4</td>\n      <td>ChIJZaZg14s82jERNONUzzbBW-4</td>\n      <td>1.360208</td>\n      <td>103.989759</td>\n      <td>8.0</td>\n      <td>3.0</td>\n      <td>0.0</td>\n      <td>0.0</td>\n      <td>1.0</td>\n      <td>4.0</td>\n    </tr>\n    <tr>\n      <th>5006</th>\n      <td>#01-51 Snack Bar</td>\n      <td>Snack bar</td>\n      <td>2 Changi Village Rd, #01-51 Changi Village Haw...</td>\n      <td>Changi Village Hawker Centre</td>\n      <td>2 Changi Village Rd, #01-51 Changi Village Haw...</td>\n      <td>Singapore</td>\n      <td>500002</td>\n      <td>SG</td>\n      <td>None</td>\n      <td>https://www.google.com/maps/place/%2301-51+Sna...</td>\n      <td>None</td>\n      <td>False</td>\n      <td>False</td>\n      <td>NaN</td>\n      <td>ChIJz5OWHxc82jERNTUXQ2F91uY</td>\n      <td>1.389013</td>\n      <td>103.988170</td>\n      <td>0.0</td>\n      <td>0.0</td>\n      <td>0.0</td>\n      <td>0.0</td>\n      <td>0.0</td>\n      <td>0.0</td>\n    </tr>\n    <tr>\n      <th>5144</th>\n      <td>Quandoo Singapore</td>\n      <td>Food and beverage consultant</td>\n      <td>77 Robinson Rd, #27-01 Robinson 77, Singapore ...</td>\n      <td>None</td>\n      <td>77 Robinson Rd, #27-01 Robinson 77</td>\n      <td>Singapore</td>\n      <td>068896</td>\n      <td>SG</td>\n      <td>quandoo.sg      website4</td>\n      <td>https://www.google.com/maps/place/Quandoo+Sing...</td>\n      <td>+65 3165 5044</td>\n      <td>False</td>\n      <td>False</td>\n      <td>2.0</td>\n      <td>ChIJQ8HgX20Z2jERTapv2m-P6ms</td>\n      <td>1.277801</td>\n      <td>103.848339</td>\n      <td>28.0</td>\n      <td>20.0</td>\n      <td>1.0</td>\n      <td>0.0</td>\n      <td>1.0</td>\n      <td>6.0</td>\n    </tr>\n    <tr>\n      <th>5582</th>\n      <td>Fortun Ate Restaurant</td>\n      <td>Catering food and drink supplier</td>\n      <td>8A Admiralty St, #06-22/23, Singapore 757437</td>\n      <td>FoodXchange @ Admiralty</td>\n      <td>8A Admiralty St, #06-22/23</td>\n      <td>Singapore</td>\n      <td>757437</td>\n      <td>SG</td>\n      <td>fortun-ate.com</td>\n      <td>https://www.google.com/maps/place/Fortun+Ate+R...</td>\n      <td>+65 6570 8384</td>\n      <td>False</td>\n      <td>False</td>\n      <td>2.7</td>\n      <td>ChIJv_M_jVsT2jERnDKHJaiC85Y</td>\n      <td>1.463280</td>\n      <td>103.814290</td>\n      <td>3.0</td>\n      <td>1.0</td>\n      <td>1.0</td>\n      <td>0.0</td>\n      <td>0.0</td>\n      <td>1.0</td>\n    </tr>\n    <tr>\n      <th>6024</th>\n      <td>Sakunthala's Food Manufacturers Pte. Ltd.</td>\n      <td>Food manufacturer</td>\n      <td>8A Admiralty St, Singapore 757437</td>\n      <td>None</td>\n      <td>8A Admiralty St</td>\n      <td>Singapore</td>\n      <td>757437</td>\n      <td>SG</td>\n      <td>sakunthalas.com</td>\n      <td>https://www.google.com/maps/place/Sakunthala's...</td>\n      <td>+65 6659 8440</td>\n      <td>False</td>\n      <td>False</td>\n      <td>5.0</td>\n      <td>ChIJQwCl9FsT2jER_rss-ssXdTw</td>\n      <td>1.463053</td>\n      <td>103.814437</td>\n      <td>1.0</td>\n      <td>0.0</td>\n      <td>0.0</td>\n      <td>0.0</td>\n      <td>0.0</td>\n      <td>1.0</td>\n    </tr>\n    <tr>\n      <th>6027</th>\n      <td>Ronnie Kitchen</td>\n      <td>Catering food and drink supplier</td>\n      <td>8A Admiralty St, #06-07 Ronnie Kitchen, Singap...</td>\n      <td>None</td>\n      <td>8A Admiralty St, #06-07 Ronnie Kitchen</td>\n      <td>Singapore</td>\n      <td>757437</td>\n      <td>SG</td>\n      <td>ronniekitchen.com.sg</td>\n      <td>https://www.google.com/maps/place/Ronnie+Kitch...</td>\n      <td>+65 6753 1003</td>\n      <td>False</td>\n      <td>False</td>\n      <td>3.4</td>\n      <td>ChIJJwpVi1sT2jERU_3zddC19bA</td>\n      <td>1.462946</td>\n      <td>103.814200</td>\n      <td>23.0</td>\n      <td>9.0</td>\n      <td>0.0</td>\n      <td>0.0</td>\n      <td>1.0</td>\n      <td>13.0</td>\n    </tr>\n    <tr>\n      <th>6028</th>\n      <td>Indoguna Singapore</td>\n      <td>Food products supplier</td>\n      <td>38 Senoko Dr, 34/36, Singapore 758221</td>\n      <td>None</td>\n      <td>38 Senoko Dr, 34/36</td>\n      <td>Singapore</td>\n      <td>758221</td>\n      <td>SG</td>\n      <td>indoguna.com</td>\n      <td>https://www.google.com/maps/place/Indoguna+Sin...</td>\n      <td>+65 6755 0330</td>\n      <td>False</td>\n      <td>False</td>\n      <td>4.3</td>\n      <td>ChIJyW9yAEQT2jERFf6NqU2_YpA</td>\n      <td>1.463066</td>\n      <td>103.804311</td>\n      <td>9.0</td>\n      <td>1.0</td>\n      <td>0.0</td>\n      <td>0.0</td>\n      <td>2.0</td>\n      <td>6.0</td>\n    </tr>\n    <tr>\n      <th>6029</th>\n      <td>Nury Dian Xin Delight Pte. Ltd.</td>\n      <td>Food manufacturer</td>\n      <td>8A Admiralty St, #07-34 Food Xchange @ Admiral...</td>\n      <td>None</td>\n      <td>8A Admiralty St, #07-34 Food Xchange @ Admiralty</td>\n      <td>Singapore</td>\n      <td>757437</td>\n      <td>SG</td>\n      <td>nurydianxin.com</td>\n      <td>https://www.google.com/maps/place/Nury+Dian+Xi...</td>\n      <td>+65 6564 5667</td>\n      <td>False</td>\n      <td>False</td>\n      <td>NaN</td>\n      <td>ChIJQ6frzW0Q2jERs7aQiG-daxw</td>\n      <td>1.463079</td>\n      <td>103.814743</td>\n      <td>0.0</td>\n      <td>0.0</td>\n      <td>0.0</td>\n      <td>0.0</td>\n      <td>0.0</td>\n      <td>0.0</td>\n    </tr>\n    <tr>\n      <th>6299</th>\n      <td>Wholesome Savour</td>\n      <td>Food manufacturer</td>\n      <td>112 Yio Chu Kang Rd, Singapore 545580</td>\n      <td>None</td>\n      <td>112 Yio Chu Kang Rd</td>\n      <td>Singapore</td>\n      <td>545580</td>\n      <td>SG</td>\n      <td>wholesomesavour.com</td>\n      <td>https://www.google.com/maps/place/Wholesome+Sa...</td>\n      <td>+65 9116 9928</td>\n      <td>False</td>\n      <td>False</td>\n      <td>4.0</td>\n      <td>ChIJpVk-xDQX2jER8xo5gWcXOSs</td>\n      <td>1.358466</td>\n      <td>103.874685</td>\n      <td>1.0</td>\n      <td>0.0</td>\n      <td>0.0</td>\n      <td>0.0</td>\n      <td>1.0</td>\n      <td>0.0</td>\n    </tr>\n    <tr>\n      <th>6322</th>\n      <td>Richie's Curry Puff</td>\n      <td>Catering food and drink supplier</td>\n      <td>498 Jurong West Street 41, Singapore 640498</td>\n      <td>None</td>\n      <td>498 Jurong West Street 41</td>\n      <td>Singapore</td>\n      <td>640498</td>\n      <td>SG</td>\n      <td>facebook.com</td>\n      <td>https://www.google.com/maps/place/Richie's+Cur...</td>\n      <td>+65 6345 5225</td>\n      <td>False</td>\n      <td>False</td>\n      <td>3.3</td>\n      <td>ChIJ6wyKx94P2jER9SAQSsz6jmY</td>\n      <td>1.348485</td>\n      <td>103.724104</td>\n      <td>36.0</td>\n      <td>8.0</td>\n      <td>3.0</td>\n      <td>7.0</td>\n      <td>6.0</td>\n      <td>12.0</td>\n    </tr>\n    <tr>\n      <th>6417</th>\n      <td>Canadian 2 For 1 Pizza | Ang Mo Kio</td>\n      <td>Food and beverage consultant</td>\n      <td>Ang Mo Kio Ave 1, #01-1591 BLK 339, Singapore ...</td>\n      <td>None</td>\n      <td>Ang Mo Kio Ave 1, #01-1591 BLK 339</td>\n      <td>Singapore</td>\n      <td>560339</td>\n      <td>SG</td>\n      <td>canadian-pizza.com</td>\n      <td>https://www.google.com/maps/place/Canadian+2+F...</td>\n      <td>+65 6265 6562</td>\n      <td>False</td>\n      <td>False</td>\n      <td>5.0</td>\n      <td>ChIJl1dTzd0X2jER7QOmU63-QlE</td>\n      <td>1.365220</td>\n      <td>103.849111</td>\n      <td>2.0</td>\n      <td>0.0</td>\n      <td>0.0</td>\n      <td>0.0</td>\n      <td>0.0</td>\n      <td>2.0</td>\n    </tr>\n  </tbody>\n</table>\n</div>"
     },
     "metadata": {},
     "execution_count": 16
    }
   ],
   "source": [
    "res[res.category.str.contains('public housing|supply|furniture|snack|catering|organic food store|supplier|broker|barber|consultant|manufacturer', case=False)]"
   ]
  },
  {
   "cell_type": "code",
   "execution_count": 17,
   "metadata": {},
   "outputs": [],
   "source": [
    "res.drop(res[res.category.str.contains('public housing|supply|furniture|snack|catering|organic food store|supplier|broker|consultant|manufacturer|barber', case=False)].index, inplace=True)"
   ]
  },
  {
   "cell_type": "code",
   "execution_count": 18,
   "metadata": {},
   "outputs": [
    {
     "output_type": "execute_result",
     "data": {
      "text/plain": [
       "array(['Cantonese restaurant', 'Restaurant', 'Asian fusion restaurant',\n",
       "       'Coffee shop', 'Barbecue restaurant', 'Bar', 'Fusion restaurant',\n",
       "       'Fast food restaurant', 'Modern European restaurant',\n",
       "       'Nyonya restaurant', 'Chinese restaurant', 'Seafood restaurant',\n",
       "       'Cocktail bar', 'Hawker stall', 'Hawker centre',\n",
       "       'Korean restaurant', 'Indian Muslim restaurant',\n",
       "       'Western restaurant', 'Thai restaurant', 'Indian restaurant',\n",
       "       'Korean barbecue restaurant', 'Okonomiyaki restaurant',\n",
       "       'Italian restaurant', 'Pan-Asian restaurant', 'Mexican restaurant',\n",
       "       'Asian restaurant', 'Fine dining restaurant', 'Steak house',\n",
       "       'Singaporean restaurant', 'Buffet restaurant',\n",
       "       'Vegetarian restaurant', 'American restaurant', 'Halal restaurant',\n",
       "       'Unagi restaurant', 'French restaurant',\n",
       "       'Mediterranean restaurant', 'Modern British restaurant',\n",
       "       'Haute French restaurant', 'Ramen restaurant', 'Food court',\n",
       "       'Cafe', 'Pizza restaurant', 'Pizza delivery', 'Chicken restaurant',\n",
       "       'Cafeteria', 'Chinese takeaway', 'Sandwich shop',\n",
       "       'Delivery Restaurant', 'Japanese restaurant', 'Tex-Mex restaurant',\n",
       "       'Persian restaurant', 'Malaysian restaurant',\n",
       "       'Middle Eastern restaurant', 'Spanish restaurant',\n",
       "       'Modern French restaurant', 'Southeast Asian restaurant',\n",
       "       'Bar & grill', 'Authentic Japanese restaurant',\n",
       "       'Australian restaurant', 'Hong Kong style fast food restaurant',\n",
       "       'Takeout Restaurant', 'Chinese noodle restaurant',\n",
       "       'Traditional restaurant', 'Fried chicken takeaway',\n",
       "       'Southern Italian restaurant', 'Greek restaurant',\n",
       "       'Taiwanese restaurant', 'Japanese curry restaurant',\n",
       "       'Coffee store', 'Bangladeshi restaurant', 'Bakery',\n",
       "       'Vegetarian cafe and deli', 'Ice cream shop',\n",
       "       'Yakitori restaurant', 'Tempura donburi restaurant',\n",
       "       'Pizza Takeout', 'Diner', 'Conveyor belt sushi restaurant',\n",
       "       'Indonesian restaurant', 'Salad shop', 'Vietnamese restaurant',\n",
       "       'European restaurant', 'Tonkatsu restaurant',\n",
       "       'Porridge restaurant', 'Hot pot restaurant',\n",
       "       'Hamburger restaurant', 'Beer garden', 'Bistro',\n",
       "       'Health food restaurant', 'Dessert shop',\n",
       "       'Modern izakaya restaurants', 'Rice restaurant',\n",
       "       'Dim sum restaurant', 'Hoagie restaurant', 'Meat dish restaurant',\n",
       "       'Burmese restaurant', 'Hot dog restaurant', 'Noodle shop',\n",
       "       'Steamboat restaurant', 'Syokudo and Teishoku restaurant',\n",
       "       'Filipino restaurant', 'Yakiniku restaurant', 'Gastropub',\n",
       "       'Soup restaurant', 'Oyster bar restaurant', 'Health food store',\n",
       "       'Takoyaki restaurant', 'Sushi takeaway', 'Nasi restaurant',\n",
       "       'Breakfast restaurant', 'Dumpling restaurant', 'Sushi restaurant',\n",
       "       'Family restaurant', 'Sichuan restaurant', 'Polynesian restaurant',\n",
       "       'Lebanese restaurant', 'Swiss restaurant', 'Momo restaurant',\n",
       "       'Indian takeaway', 'Dog cafe', 'Pancake restaurant',\n",
       "       'Dessert restaurant', 'Brazilian restaurant',\n",
       "       'Fish & chips restaurant', 'Sukiyaki and Shabu Shabu restaurant',\n",
       "       'Ethnic restaurant', 'Soup shop', 'Hakka restaurant',\n",
       "       'Seafood donburi restaurant', 'Pub',\n",
       "       'French steakhouse restaurant', 'Argentinian restaurant',\n",
       "       'Brewpub', 'Tempura restaurant', 'Japanese steakhouse',\n",
       "       'Izakaya restaurant', 'German restaurant',\n",
       "       'Fish and seafood restaurant', 'Gluten-free restaurant',\n",
       "       'Punjabi restaurant', 'Tapas restaurant', 'Vegan restaurant',\n",
       "       'Turkish restaurant', 'Sri Lankan restaurant',\n",
       "       'Egyptian restaurant', 'Shabu-shabu restaurant',\n",
       "       'Shanghainese restaurant', 'Modern Indian restaurant',\n",
       "       'South Asian restaurant', 'Crêperie', 'Japanese sweets restaurant',\n",
       "       'Self service restaurant', 'Chicken wings restaurant',\n",
       "       'Chicken shop', 'Chettinad restaurant', 'Country food restaurant',\n",
       "       'Shandong restaurant', 'Wok restaurant', 'Raw food restaurant',\n",
       "       'Satay restaurant', 'Grill', 'Nepalese restaurant',\n",
       "       'East Javanese restaurant', 'North Eastern Indian restaurant',\n",
       "       'Padang restaurant', 'New American restaurant',\n",
       "       'Udon noodle restaurant', 'Takeout restaurant', 'Deli',\n",
       "       'Teppanyaki restaurant', 'Latin American restaurant',\n",
       "       'Live music venue', 'Chocolate cafe', 'Eclectic restaurant',\n",
       "       'Hawaiian restaurant', 'British restaurant', 'Chinese bakery',\n",
       "       'Churreria', 'Catalonian restaurant', 'Swedish restaurant',\n",
       "       'Kaiseki restaurant', 'Modern Australian restaurant', 'Wine bar',\n",
       "       'Seafood market', 'Pakistani restaurant', 'African restaurant',\n",
       "       'Coffee roasters', 'Kushiyaki restaurant', 'Fujian restaurant',\n",
       "       'Crab house', 'Bar tabac'], dtype=object)"
      ]
     },
     "metadata": {},
     "execution_count": 18
    }
   ],
   "source": [
    "res['category'].unique()"
   ]
  },
  {
   "source": [
    "### Dropping restaurants with no address "
   ],
   "cell_type": "markdown",
   "metadata": {}
  },
  {
   "cell_type": "code",
   "execution_count": 19,
   "metadata": {},
   "outputs": [
    {
     "output_type": "execute_result",
     "data": {
      "text/plain": [
       "                       title             category address locatedin street  \\\n",
       "211       SG Delivery Online  Delivery Restaurant    None      None    NaN   \n",
       "3924  Our Secret Herb Garden           Restaurant    None      None    NaN   \n",
       "4044    Southpaw Bar & Sushi  Japanese restaurant    None      None    NaN   \n",
       "4542                    Mian          Noodle shop    None      None    NaN   \n",
       "5813         Nyonya Flavours     Asian restaurant    None      None    NaN   \n",
       "\n",
       "     city postalcode countrycode website  url phone permclosed   ad  score  \\\n",
       "211   NaN        NaN         NaN     NaN  NaN   NaN        NaN  NaN    NaN   \n",
       "3924  NaN        NaN         NaN     NaN  NaN   NaN        NaN  NaN    NaN   \n",
       "4044  NaN        NaN         NaN     NaN  NaN   NaN        NaN  NaN    NaN   \n",
       "4542  NaN        NaN         NaN     NaN  NaN   NaN        NaN  NaN    NaN   \n",
       "5813  NaN        NaN         NaN     NaN  NaN   NaN        NaN  NaN    NaN   \n",
       "\n",
       "     placeid  lat  lng  reviewsno  onestar  twostar  threestar  fourstar  \\\n",
       "211      NaN  NaN  NaN        NaN      NaN      NaN        NaN       NaN   \n",
       "3924     NaN  NaN  NaN        NaN      NaN      NaN        NaN       NaN   \n",
       "4044     NaN  NaN  NaN        NaN      NaN      NaN        NaN       NaN   \n",
       "4542     NaN  NaN  NaN        NaN      NaN      NaN        NaN       NaN   \n",
       "5813     NaN  NaN  NaN        NaN      NaN      NaN        NaN       NaN   \n",
       "\n",
       "      fivestar  \n",
       "211        NaN  \n",
       "3924       NaN  \n",
       "4044       NaN  \n",
       "4542       NaN  \n",
       "5813       NaN  "
      ],
      "text/html": "<div>\n<style scoped>\n    .dataframe tbody tr th:only-of-type {\n        vertical-align: middle;\n    }\n\n    .dataframe tbody tr th {\n        vertical-align: top;\n    }\n\n    .dataframe thead th {\n        text-align: right;\n    }\n</style>\n<table border=\"1\" class=\"dataframe\">\n  <thead>\n    <tr style=\"text-align: right;\">\n      <th></th>\n      <th>title</th>\n      <th>category</th>\n      <th>address</th>\n      <th>locatedin</th>\n      <th>street</th>\n      <th>city</th>\n      <th>postalcode</th>\n      <th>countrycode</th>\n      <th>website</th>\n      <th>url</th>\n      <th>phone</th>\n      <th>permclosed</th>\n      <th>ad</th>\n      <th>score</th>\n      <th>placeid</th>\n      <th>lat</th>\n      <th>lng</th>\n      <th>reviewsno</th>\n      <th>onestar</th>\n      <th>twostar</th>\n      <th>threestar</th>\n      <th>fourstar</th>\n      <th>fivestar</th>\n    </tr>\n  </thead>\n  <tbody>\n    <tr>\n      <th>211</th>\n      <td>SG Delivery Online</td>\n      <td>Delivery Restaurant</td>\n      <td>None</td>\n      <td>None</td>\n      <td>NaN</td>\n      <td>NaN</td>\n      <td>NaN</td>\n      <td>NaN</td>\n      <td>NaN</td>\n      <td>NaN</td>\n      <td>NaN</td>\n      <td>NaN</td>\n      <td>NaN</td>\n      <td>NaN</td>\n      <td>NaN</td>\n      <td>NaN</td>\n      <td>NaN</td>\n      <td>NaN</td>\n      <td>NaN</td>\n      <td>NaN</td>\n      <td>NaN</td>\n      <td>NaN</td>\n      <td>NaN</td>\n    </tr>\n    <tr>\n      <th>3924</th>\n      <td>Our Secret Herb Garden</td>\n      <td>Restaurant</td>\n      <td>None</td>\n      <td>None</td>\n      <td>NaN</td>\n      <td>NaN</td>\n      <td>NaN</td>\n      <td>NaN</td>\n      <td>NaN</td>\n      <td>NaN</td>\n      <td>NaN</td>\n      <td>NaN</td>\n      <td>NaN</td>\n      <td>NaN</td>\n      <td>NaN</td>\n      <td>NaN</td>\n      <td>NaN</td>\n      <td>NaN</td>\n      <td>NaN</td>\n      <td>NaN</td>\n      <td>NaN</td>\n      <td>NaN</td>\n      <td>NaN</td>\n    </tr>\n    <tr>\n      <th>4044</th>\n      <td>Southpaw Bar &amp; Sushi</td>\n      <td>Japanese restaurant</td>\n      <td>None</td>\n      <td>None</td>\n      <td>NaN</td>\n      <td>NaN</td>\n      <td>NaN</td>\n      <td>NaN</td>\n      <td>NaN</td>\n      <td>NaN</td>\n      <td>NaN</td>\n      <td>NaN</td>\n      <td>NaN</td>\n      <td>NaN</td>\n      <td>NaN</td>\n      <td>NaN</td>\n      <td>NaN</td>\n      <td>NaN</td>\n      <td>NaN</td>\n      <td>NaN</td>\n      <td>NaN</td>\n      <td>NaN</td>\n      <td>NaN</td>\n    </tr>\n    <tr>\n      <th>4542</th>\n      <td>Mian</td>\n      <td>Noodle shop</td>\n      <td>None</td>\n      <td>None</td>\n      <td>NaN</td>\n      <td>NaN</td>\n      <td>NaN</td>\n      <td>NaN</td>\n      <td>NaN</td>\n      <td>NaN</td>\n      <td>NaN</td>\n      <td>NaN</td>\n      <td>NaN</td>\n      <td>NaN</td>\n      <td>NaN</td>\n      <td>NaN</td>\n      <td>NaN</td>\n      <td>NaN</td>\n      <td>NaN</td>\n      <td>NaN</td>\n      <td>NaN</td>\n      <td>NaN</td>\n      <td>NaN</td>\n    </tr>\n    <tr>\n      <th>5813</th>\n      <td>Nyonya Flavours</td>\n      <td>Asian restaurant</td>\n      <td>None</td>\n      <td>None</td>\n      <td>NaN</td>\n      <td>NaN</td>\n      <td>NaN</td>\n      <td>NaN</td>\n      <td>NaN</td>\n      <td>NaN</td>\n      <td>NaN</td>\n      <td>NaN</td>\n      <td>NaN</td>\n      <td>NaN</td>\n      <td>NaN</td>\n      <td>NaN</td>\n      <td>NaN</td>\n      <td>NaN</td>\n      <td>NaN</td>\n      <td>NaN</td>\n      <td>NaN</td>\n      <td>NaN</td>\n      <td>NaN</td>\n    </tr>\n  </tbody>\n</table>\n</div>"
     },
     "metadata": {},
     "execution_count": 19
    }
   ],
   "source": [
    "res[res.address.isnull()]"
   ]
  },
  {
   "cell_type": "code",
   "execution_count": 20,
   "metadata": {},
   "outputs": [],
   "source": [
    "res.drop(res[res.address.isnull()].index, inplace=True)"
   ]
  },
  {
   "source": [
    "### Retrieving coordinates of restaurants with address"
   ],
   "cell_type": "markdown",
   "metadata": {}
  },
  {
   "cell_type": "code",
   "execution_count": 21,
   "metadata": {},
   "outputs": [
    {
     "output_type": "execute_result",
     "data": {
      "text/plain": [
       "                                                  title  \\\n",
       "95                                   Gayatri Restaurant   \n",
       "2749                                          Swensen's   \n",
       "2752                                 Lai Wah Restaurant   \n",
       "2826                                          Tun Xiang   \n",
       "2828                                 Old School Canteen   \n",
       "2915                       Ichiban Sushi (Hougang Mall)   \n",
       "3003                       Cafe Morozoff - Jewel Changi   \n",
       "3112                              Wu Tou steamboat屋头小火锅   \n",
       "6073  XIAO MU DENG HOT POT 重慶小木凳懷舊火鍋 Chinatown Branc...   \n",
       "\n",
       "                    category  \\\n",
       "95         Indian restaurant   \n",
       "2749              Restaurant   \n",
       "2752    Cantonese restaurant   \n",
       "2826  Singaporean restaurant   \n",
       "2828            Hawker stall   \n",
       "2915     Japanese restaurant   \n",
       "3003                    Cafe   \n",
       "3112              Restaurant   \n",
       "6073      Hot pot restaurant   \n",
       "\n",
       "                                                address  \\\n",
       "95         122 Race Course Rd, #01-01, Singapore 218583   \n",
       "2749  1 Sengkang Square #B1-16 Compass One, Singapor...   \n",
       "2752        44 Bendemeer Rd, #01-1436, Singapore 330044   \n",
       "2826    10 Tampines Central 1, #03-K1, Singapore 529536   \n",
       "2828  Blk 3 Changi Village Rd, #01-85, Singapore 500003   \n",
       "2915  90 Hougang Avenue 10 #02-23, Hougang Mall, Sin...   \n",
       "3003        78 Airport Blvd., #04-200, Singapore 819666   \n",
       "3112  76 Nanyang Dr NorthSpine Plaza #NS3-1-24, Sing...   \n",
       "6073                279 New Bridge Rd, Singapore 088752   \n",
       "\n",
       "                         locatedin  \\\n",
       "95                            None   \n",
       "2749                   Compass One   \n",
       "2752                          None   \n",
       "2826                    Tampines 1   \n",
       "2828  Changi Village Hawker Centre   \n",
       "2915                  Hougang Mall   \n",
       "3003          Jewel Changi Airport   \n",
       "3112         NTU North Spine Plaza   \n",
       "6073                          None   \n",
       "\n",
       "                                                 street       city postalcode  \\\n",
       "95                           122 Race Course Rd, #01-01  Singapore     218583   \n",
       "2749               1 Sengkang Square #B1-16 Compass One  Singapore     545078   \n",
       "2752                          44 Bendemeer Rd, #01-1436  Singapore     330044   \n",
       "2826                      10 Tampines Central 1, #03-K1  Singapore     529536   \n",
       "2828                    Blk 3 Changi Village Rd, #01-85  Singapore     500003   \n",
       "2915          90 Hougang Avenue 10 #02-23, Hougang Mall  Singapore     538766   \n",
       "3003                          78 Airport Blvd., #04-200  Singapore     819666   \n",
       "3112  76 Nanyang Dr NorthSpine Plaza #NS3-1-24, Sing...  Singapore     637331   \n",
       "6073                                  279 New Bridge Rd  Singapore     088752   \n",
       "\n",
       "     countrycode                         website  \\\n",
       "95            SG           gayatrirestaurant.com   \n",
       "2749          SG                 swensens.com.sg   \n",
       "2752          SG            laiwahrestaurant.com   \n",
       "2826          SG                    facebook.com   \n",
       "2828          SG                   wordpress.com   \n",
       "2915          SG             ichibansushi.com.sg   \n",
       "3003          SG                 morozoff.com.sg   \n",
       "3112          SG  wu-tou-steamboat.business.site   \n",
       "6073          SG                  m.facebook.com   \n",
       "\n",
       "                                                    url          phone  \\\n",
       "95    https://www.google.com/maps/place/restaurants/...  +65 6291 1011   \n",
       "2749  https://www.google.com/maps/place/restaurants/...  +65 6386 4341   \n",
       "2752  https://www.google.com/maps/place/restaurants/...  +65 6294 9922   \n",
       "2826  https://www.google.com/maps/place/restaurants/...           None   \n",
       "2828  https://www.google.com/maps/place/restaurants/...  +65 9234 0426   \n",
       "2915  https://www.google.com/maps/place/restaurants/...  +65 6386 7836   \n",
       "3003  https://www.google.com/maps/place/restaurants/...  +65 6243 0379   \n",
       "3112  https://www.google.com/maps/place/restaurants/...  +65 8821 3302   \n",
       "6073  https://www.google.com/maps/place/restaurants/...  +65 6227 7017   \n",
       "\n",
       "     permclosed     ad  score                      placeid  lat  lng  \\\n",
       "95        False  False    4.1  ChIJQ0U9IscZ2jERxoggGQSjBpA  NaN  NaN   \n",
       "2749      False  False    3.9  ChIJJ4D-iA0W2jERUnMrYe7fnkk  NaN  NaN   \n",
       "2752      False  False    3.9  ChIJuZfHmdQZ2jEROUKKNzDb0ew  NaN  NaN   \n",
       "2826      False  False    3.2  ChIJ66DhH0092jERkMJML0hDOeU  NaN  NaN   \n",
       "2828      False  False    4.8  ChIJPTCm6oU92jERznyW_Ylz8KM  NaN  NaN   \n",
       "2915      False  False    3.7  ChIJU1SBnTcW2jERq98jhPDHkQo  NaN  NaN   \n",
       "3003      False  False    3.2  ChIJW1KIYIs92jERwBs0xZis--k  NaN  NaN   \n",
       "3112      False  False    3.7  ChIJweuVwwoP2jERSBAiykTZ8ck  NaN  NaN   \n",
       "6073      False  False    4.1  ChIJu0aCk5IZ2jERewU1dt7jYH0  NaN  NaN   \n",
       "\n",
       "      reviewsno  onestar  twostar  threestar  fourstar  fivestar  \n",
       "95          NaN      NaN      NaN        NaN       NaN       NaN  \n",
       "2749        NaN      NaN      NaN        NaN       NaN       NaN  \n",
       "2752        NaN      NaN      NaN        NaN       NaN       NaN  \n",
       "2826        NaN      NaN      NaN        NaN       NaN       NaN  \n",
       "2828        NaN      NaN      NaN        NaN       NaN       NaN  \n",
       "2915        NaN      NaN      NaN        NaN       NaN       NaN  \n",
       "3003        NaN      NaN      NaN        NaN       NaN       NaN  \n",
       "3112        NaN      NaN      NaN        NaN       NaN       NaN  \n",
       "6073        NaN      NaN      NaN        NaN       NaN       NaN  "
      ],
      "text/html": "<div>\n<style scoped>\n    .dataframe tbody tr th:only-of-type {\n        vertical-align: middle;\n    }\n\n    .dataframe tbody tr th {\n        vertical-align: top;\n    }\n\n    .dataframe thead th {\n        text-align: right;\n    }\n</style>\n<table border=\"1\" class=\"dataframe\">\n  <thead>\n    <tr style=\"text-align: right;\">\n      <th></th>\n      <th>title</th>\n      <th>category</th>\n      <th>address</th>\n      <th>locatedin</th>\n      <th>street</th>\n      <th>city</th>\n      <th>postalcode</th>\n      <th>countrycode</th>\n      <th>website</th>\n      <th>url</th>\n      <th>phone</th>\n      <th>permclosed</th>\n      <th>ad</th>\n      <th>score</th>\n      <th>placeid</th>\n      <th>lat</th>\n      <th>lng</th>\n      <th>reviewsno</th>\n      <th>onestar</th>\n      <th>twostar</th>\n      <th>threestar</th>\n      <th>fourstar</th>\n      <th>fivestar</th>\n    </tr>\n  </thead>\n  <tbody>\n    <tr>\n      <th>95</th>\n      <td>Gayatri Restaurant</td>\n      <td>Indian restaurant</td>\n      <td>122 Race Course Rd, #01-01, Singapore 218583</td>\n      <td>None</td>\n      <td>122 Race Course Rd, #01-01</td>\n      <td>Singapore</td>\n      <td>218583</td>\n      <td>SG</td>\n      <td>gayatrirestaurant.com</td>\n      <td>https://www.google.com/maps/place/restaurants/...</td>\n      <td>+65 6291 1011</td>\n      <td>False</td>\n      <td>False</td>\n      <td>4.1</td>\n      <td>ChIJQ0U9IscZ2jERxoggGQSjBpA</td>\n      <td>NaN</td>\n      <td>NaN</td>\n      <td>NaN</td>\n      <td>NaN</td>\n      <td>NaN</td>\n      <td>NaN</td>\n      <td>NaN</td>\n      <td>NaN</td>\n    </tr>\n    <tr>\n      <th>2749</th>\n      <td>Swensen's</td>\n      <td>Restaurant</td>\n      <td>1 Sengkang Square #B1-16 Compass One, Singapor...</td>\n      <td>Compass One</td>\n      <td>1 Sengkang Square #B1-16 Compass One</td>\n      <td>Singapore</td>\n      <td>545078</td>\n      <td>SG</td>\n      <td>swensens.com.sg</td>\n      <td>https://www.google.com/maps/place/restaurants/...</td>\n      <td>+65 6386 4341</td>\n      <td>False</td>\n      <td>False</td>\n      <td>3.9</td>\n      <td>ChIJJ4D-iA0W2jERUnMrYe7fnkk</td>\n      <td>NaN</td>\n      <td>NaN</td>\n      <td>NaN</td>\n      <td>NaN</td>\n      <td>NaN</td>\n      <td>NaN</td>\n      <td>NaN</td>\n      <td>NaN</td>\n    </tr>\n    <tr>\n      <th>2752</th>\n      <td>Lai Wah Restaurant</td>\n      <td>Cantonese restaurant</td>\n      <td>44 Bendemeer Rd, #01-1436, Singapore 330044</td>\n      <td>None</td>\n      <td>44 Bendemeer Rd, #01-1436</td>\n      <td>Singapore</td>\n      <td>330044</td>\n      <td>SG</td>\n      <td>laiwahrestaurant.com</td>\n      <td>https://www.google.com/maps/place/restaurants/...</td>\n      <td>+65 6294 9922</td>\n      <td>False</td>\n      <td>False</td>\n      <td>3.9</td>\n      <td>ChIJuZfHmdQZ2jEROUKKNzDb0ew</td>\n      <td>NaN</td>\n      <td>NaN</td>\n      <td>NaN</td>\n      <td>NaN</td>\n      <td>NaN</td>\n      <td>NaN</td>\n      <td>NaN</td>\n      <td>NaN</td>\n    </tr>\n    <tr>\n      <th>2826</th>\n      <td>Tun Xiang</td>\n      <td>Singaporean restaurant</td>\n      <td>10 Tampines Central 1, #03-K1, Singapore 529536</td>\n      <td>Tampines 1</td>\n      <td>10 Tampines Central 1, #03-K1</td>\n      <td>Singapore</td>\n      <td>529536</td>\n      <td>SG</td>\n      <td>facebook.com</td>\n      <td>https://www.google.com/maps/place/restaurants/...</td>\n      <td>None</td>\n      <td>False</td>\n      <td>False</td>\n      <td>3.2</td>\n      <td>ChIJ66DhH0092jERkMJML0hDOeU</td>\n      <td>NaN</td>\n      <td>NaN</td>\n      <td>NaN</td>\n      <td>NaN</td>\n      <td>NaN</td>\n      <td>NaN</td>\n      <td>NaN</td>\n      <td>NaN</td>\n    </tr>\n    <tr>\n      <th>2828</th>\n      <td>Old School Canteen</td>\n      <td>Hawker stall</td>\n      <td>Blk 3 Changi Village Rd, #01-85, Singapore 500003</td>\n      <td>Changi Village Hawker Centre</td>\n      <td>Blk 3 Changi Village Rd, #01-85</td>\n      <td>Singapore</td>\n      <td>500003</td>\n      <td>SG</td>\n      <td>wordpress.com</td>\n      <td>https://www.google.com/maps/place/restaurants/...</td>\n      <td>+65 9234 0426</td>\n      <td>False</td>\n      <td>False</td>\n      <td>4.8</td>\n      <td>ChIJPTCm6oU92jERznyW_Ylz8KM</td>\n      <td>NaN</td>\n      <td>NaN</td>\n      <td>NaN</td>\n      <td>NaN</td>\n      <td>NaN</td>\n      <td>NaN</td>\n      <td>NaN</td>\n      <td>NaN</td>\n    </tr>\n    <tr>\n      <th>2915</th>\n      <td>Ichiban Sushi (Hougang Mall)</td>\n      <td>Japanese restaurant</td>\n      <td>90 Hougang Avenue 10 #02-23, Hougang Mall, Sin...</td>\n      <td>Hougang Mall</td>\n      <td>90 Hougang Avenue 10 #02-23, Hougang Mall</td>\n      <td>Singapore</td>\n      <td>538766</td>\n      <td>SG</td>\n      <td>ichibansushi.com.sg</td>\n      <td>https://www.google.com/maps/place/restaurants/...</td>\n      <td>+65 6386 7836</td>\n      <td>False</td>\n      <td>False</td>\n      <td>3.7</td>\n      <td>ChIJU1SBnTcW2jERq98jhPDHkQo</td>\n      <td>NaN</td>\n      <td>NaN</td>\n      <td>NaN</td>\n      <td>NaN</td>\n      <td>NaN</td>\n      <td>NaN</td>\n      <td>NaN</td>\n      <td>NaN</td>\n    </tr>\n    <tr>\n      <th>3003</th>\n      <td>Cafe Morozoff - Jewel Changi</td>\n      <td>Cafe</td>\n      <td>78 Airport Blvd., #04-200, Singapore 819666</td>\n      <td>Jewel Changi Airport</td>\n      <td>78 Airport Blvd., #04-200</td>\n      <td>Singapore</td>\n      <td>819666</td>\n      <td>SG</td>\n      <td>morozoff.com.sg</td>\n      <td>https://www.google.com/maps/place/restaurants/...</td>\n      <td>+65 6243 0379</td>\n      <td>False</td>\n      <td>False</td>\n      <td>3.2</td>\n      <td>ChIJW1KIYIs92jERwBs0xZis--k</td>\n      <td>NaN</td>\n      <td>NaN</td>\n      <td>NaN</td>\n      <td>NaN</td>\n      <td>NaN</td>\n      <td>NaN</td>\n      <td>NaN</td>\n      <td>NaN</td>\n    </tr>\n    <tr>\n      <th>3112</th>\n      <td>Wu Tou steamboat屋头小火锅</td>\n      <td>Restaurant</td>\n      <td>76 Nanyang Dr NorthSpine Plaza #NS3-1-24, Sing...</td>\n      <td>NTU North Spine Plaza</td>\n      <td>76 Nanyang Dr NorthSpine Plaza #NS3-1-24, Sing...</td>\n      <td>Singapore</td>\n      <td>637331</td>\n      <td>SG</td>\n      <td>wu-tou-steamboat.business.site</td>\n      <td>https://www.google.com/maps/place/restaurants/...</td>\n      <td>+65 8821 3302</td>\n      <td>False</td>\n      <td>False</td>\n      <td>3.7</td>\n      <td>ChIJweuVwwoP2jERSBAiykTZ8ck</td>\n      <td>NaN</td>\n      <td>NaN</td>\n      <td>NaN</td>\n      <td>NaN</td>\n      <td>NaN</td>\n      <td>NaN</td>\n      <td>NaN</td>\n      <td>NaN</td>\n    </tr>\n    <tr>\n      <th>6073</th>\n      <td>XIAO MU DENG HOT POT 重慶小木凳懷舊火鍋 Chinatown Branc...</td>\n      <td>Hot pot restaurant</td>\n      <td>279 New Bridge Rd, Singapore 088752</td>\n      <td>None</td>\n      <td>279 New Bridge Rd</td>\n      <td>Singapore</td>\n      <td>088752</td>\n      <td>SG</td>\n      <td>m.facebook.com</td>\n      <td>https://www.google.com/maps/place/restaurants/...</td>\n      <td>+65 6227 7017</td>\n      <td>False</td>\n      <td>False</td>\n      <td>4.1</td>\n      <td>ChIJu0aCk5IZ2jERewU1dt7jYH0</td>\n      <td>NaN</td>\n      <td>NaN</td>\n      <td>NaN</td>\n      <td>NaN</td>\n      <td>NaN</td>\n      <td>NaN</td>\n      <td>NaN</td>\n      <td>NaN</td>\n    </tr>\n  </tbody>\n</table>\n</div>"
     },
     "metadata": {},
     "execution_count": 21
    }
   ],
   "source": [
    "res[res.reviewsno.isnull()]"
   ]
  },
  {
   "cell_type": "code",
   "execution_count": 22,
   "metadata": {},
   "outputs": [],
   "source": [
    "nocoord_df = res[res.reviewsno.isnull()].copy()"
   ]
  },
  {
   "cell_type": "code",
   "execution_count": 23,
   "metadata": {},
   "outputs": [
    {
     "output_type": "execute_result",
     "data": {
      "text/plain": [
       "95           122 Race Course Rd, #01-01, Singapore 218583\n",
       "2749    1 Sengkang Square #B1-16 Compass One, Singapor...\n",
       "2752          44 Bendemeer Rd, #01-1436, Singapore 330044\n",
       "2826      10 Tampines Central 1, #03-K1, Singapore 529536\n",
       "2828    Blk 3 Changi Village Rd, #01-85, Singapore 500003\n",
       "2915    90 Hougang Avenue 10 #02-23, Hougang Mall, Sin...\n",
       "3003          78 Airport Blvd., #04-200, Singapore 819666\n",
       "3112    76 Nanyang Dr NorthSpine Plaza #NS3-1-24, Sing...\n",
       "6073                  279 New Bridge Rd, Singapore 088752\n",
       "Name: address, dtype: object"
      ]
     },
     "metadata": {},
     "execution_count": 23
    }
   ],
   "source": [
    "nocoord_df['address']"
   ]
  },
  {
   "cell_type": "code",
   "execution_count": 24,
   "metadata": {},
   "outputs": [
    {
     "output_type": "execute_result",
     "data": {
      "text/plain": [
       "['122 Race Course Rd',\n",
       " '1 Sengkang Square',\n",
       " '44 Bendemeer Rd',\n",
       " '10 Tampines Central 1',\n",
       " 'Blk 3 Changi Village Rd',\n",
       " '90 Hougang Avenue 10',\n",
       " '78 Airport Blvd',\n",
       " '76 Nanyang Dr NorthSpine Plaza',\n",
       " '279 New Bridge Rd']"
      ]
     },
     "metadata": {},
     "execution_count": 24
    }
   ],
   "source": [
    "[re.match(string=re.split(string=re.split(string=x, pattern=',')[0], pattern=' #')[0], pattern='^[\\w\\s]+')[0] for x in nocoord_df['address']]"
   ]
  },
  {
   "cell_type": "code",
   "execution_count": 25,
   "metadata": {},
   "outputs": [
    {
     "output_type": "execute_result",
     "data": {
      "text/plain": [
       "<Response [200]>"
      ]
     },
     "metadata": {},
     "execution_count": 25
    }
   ],
   "source": [
    "# Testing\n",
    "\n",
    "# proxies = {\n",
    "#  'http': '178.128.28.38:8080',\n",
    "#  'https': '178.128.28.38:8080',\n",
    "# }\n",
    "\n",
    "requests.get('https://developers.onemap.sg/commonapi/search?searchVal=revenue&returnGeom=Y&getAddrDetails=Y&pageNum=1', timeout=1)"
   ]
  },
  {
   "cell_type": "code",
   "execution_count": 26,
   "metadata": {},
   "outputs": [],
   "source": [
    "def get_coord(address):\n",
    "    url = 'https://developers.onemap.sg/commonapi/search?searchVal='\n",
    "    add = re.match(string=re.split(string=re.split(string=address, pattern=',')[0], pattern=' #')[0], pattern='^[\\w\\s]+')[0]\n",
    "    url_final = url+add+'&returnGeom=Y&getAddrDetails=Y&pageNum=1'\n",
    "    resp = requests.get(url_final, timeout=5)\n",
    "    print(f'Scraped {add}')\n",
    "    time.sleep(np.random.randint(1,5))\n",
    "    if resp.status_code != 200:\n",
    "        raise NameError('URL Error')\n",
    "    else:\n",
    "        try:\n",
    "            lat = resp.json()['results'][0]['LATITUDE']\n",
    "            lng = resp.json()['results'][0]['LONGITUDE']\n",
    "            return lat + ' ' + lng\n",
    "        except: \n",
    "            return np.nan"
   ]
  },
  {
   "cell_type": "code",
   "execution_count": 27,
   "metadata": {},
   "outputs": [
    {
     "output_type": "stream",
     "name": "stdout",
     "text": [
      "Scraped 122 Race Course Rd\n",
      "Scraped 1 Sengkang Square\n",
      "Scraped 44 Bendemeer Rd\n",
      "Scraped 10 Tampines Central 1\n",
      "Scraped Blk 3 Changi Village Rd\n",
      "Scraped 90 Hougang Avenue 10\n",
      "Scraped 78 Airport Blvd\n",
      "Scraped 76 Nanyang Dr NorthSpine Plaza\n",
      "Scraped 279 New Bridge Rd\n"
     ]
    }
   ],
   "source": [
    "nocoord_df['coordinates'] = nocoord_df['address'].apply(get_coord)"
   ]
  },
  {
   "cell_type": "code",
   "execution_count": 28,
   "metadata": {},
   "outputs": [
    {
     "output_type": "execute_result",
     "data": {
      "text/plain": [
       "                      title      category  \\\n",
       "2828     Old School Canteen  Hawker stall   \n",
       "3112  Wu Tou steamboat屋头小火锅    Restaurant   \n",
       "\n",
       "                                                address  \\\n",
       "2828  Blk 3 Changi Village Rd, #01-85, Singapore 500003   \n",
       "3112  76 Nanyang Dr NorthSpine Plaza #NS3-1-24, Sing...   \n",
       "\n",
       "                         locatedin  \\\n",
       "2828  Changi Village Hawker Centre   \n",
       "3112         NTU North Spine Plaza   \n",
       "\n",
       "                                                 street       city postalcode  \\\n",
       "2828                    Blk 3 Changi Village Rd, #01-85  Singapore     500003   \n",
       "3112  76 Nanyang Dr NorthSpine Plaza #NS3-1-24, Sing...  Singapore     637331   \n",
       "\n",
       "     countrycode                         website  \\\n",
       "2828          SG                   wordpress.com   \n",
       "3112          SG  wu-tou-steamboat.business.site   \n",
       "\n",
       "                                                    url          phone  \\\n",
       "2828  https://www.google.com/maps/place/restaurants/...  +65 9234 0426   \n",
       "3112  https://www.google.com/maps/place/restaurants/...  +65 8821 3302   \n",
       "\n",
       "     permclosed     ad  score                      placeid  lat  lng  \\\n",
       "2828      False  False    4.8  ChIJPTCm6oU92jERznyW_Ylz8KM  NaN  NaN   \n",
       "3112      False  False    3.7  ChIJweuVwwoP2jERSBAiykTZ8ck  NaN  NaN   \n",
       "\n",
       "      reviewsno  onestar  twostar  threestar  fourstar  fivestar coordinates  \n",
       "2828        NaN      NaN      NaN        NaN       NaN       NaN         NaN  \n",
       "3112        NaN      NaN      NaN        NaN       NaN       NaN         NaN  "
      ],
      "text/html": "<div>\n<style scoped>\n    .dataframe tbody tr th:only-of-type {\n        vertical-align: middle;\n    }\n\n    .dataframe tbody tr th {\n        vertical-align: top;\n    }\n\n    .dataframe thead th {\n        text-align: right;\n    }\n</style>\n<table border=\"1\" class=\"dataframe\">\n  <thead>\n    <tr style=\"text-align: right;\">\n      <th></th>\n      <th>title</th>\n      <th>category</th>\n      <th>address</th>\n      <th>locatedin</th>\n      <th>street</th>\n      <th>city</th>\n      <th>postalcode</th>\n      <th>countrycode</th>\n      <th>website</th>\n      <th>url</th>\n      <th>phone</th>\n      <th>permclosed</th>\n      <th>ad</th>\n      <th>score</th>\n      <th>placeid</th>\n      <th>lat</th>\n      <th>lng</th>\n      <th>reviewsno</th>\n      <th>onestar</th>\n      <th>twostar</th>\n      <th>threestar</th>\n      <th>fourstar</th>\n      <th>fivestar</th>\n      <th>coordinates</th>\n    </tr>\n  </thead>\n  <tbody>\n    <tr>\n      <th>2828</th>\n      <td>Old School Canteen</td>\n      <td>Hawker stall</td>\n      <td>Blk 3 Changi Village Rd, #01-85, Singapore 500003</td>\n      <td>Changi Village Hawker Centre</td>\n      <td>Blk 3 Changi Village Rd, #01-85</td>\n      <td>Singapore</td>\n      <td>500003</td>\n      <td>SG</td>\n      <td>wordpress.com</td>\n      <td>https://www.google.com/maps/place/restaurants/...</td>\n      <td>+65 9234 0426</td>\n      <td>False</td>\n      <td>False</td>\n      <td>4.8</td>\n      <td>ChIJPTCm6oU92jERznyW_Ylz8KM</td>\n      <td>NaN</td>\n      <td>NaN</td>\n      <td>NaN</td>\n      <td>NaN</td>\n      <td>NaN</td>\n      <td>NaN</td>\n      <td>NaN</td>\n      <td>NaN</td>\n      <td>NaN</td>\n    </tr>\n    <tr>\n      <th>3112</th>\n      <td>Wu Tou steamboat屋头小火锅</td>\n      <td>Restaurant</td>\n      <td>76 Nanyang Dr NorthSpine Plaza #NS3-1-24, Sing...</td>\n      <td>NTU North Spine Plaza</td>\n      <td>76 Nanyang Dr NorthSpine Plaza #NS3-1-24, Sing...</td>\n      <td>Singapore</td>\n      <td>637331</td>\n      <td>SG</td>\n      <td>wu-tou-steamboat.business.site</td>\n      <td>https://www.google.com/maps/place/restaurants/...</td>\n      <td>+65 8821 3302</td>\n      <td>False</td>\n      <td>False</td>\n      <td>3.7</td>\n      <td>ChIJweuVwwoP2jERSBAiykTZ8ck</td>\n      <td>NaN</td>\n      <td>NaN</td>\n      <td>NaN</td>\n      <td>NaN</td>\n      <td>NaN</td>\n      <td>NaN</td>\n      <td>NaN</td>\n      <td>NaN</td>\n      <td>NaN</td>\n    </tr>\n  </tbody>\n</table>\n</div>"
     },
     "metadata": {},
     "execution_count": 28
    }
   ],
   "source": [
    "nocoord_df[nocoord_df['coordinates'].isnull()]"
   ]
  },
  {
   "cell_type": "code",
   "execution_count": 29,
   "metadata": {},
   "outputs": [
    {
     "output_type": "stream",
     "name": "stdout",
     "text": [
      "Scraped 500003\n",
      "Scraped 637331\n"
     ]
    }
   ],
   "source": [
    "nocoord_df.loc[2828,'coordinates'] = get_coord(nocoord_df.loc[2828,:]['postalcode'])\n",
    "nocoord_df.loc[3112,'coordinates'] = get_coord(nocoord_df.loc[3112,:]['postalcode'])"
   ]
  },
  {
   "cell_type": "code",
   "execution_count": 30,
   "metadata": {},
   "outputs": [
    {
     "output_type": "execute_result",
     "data": {
      "text/plain": [
       "Empty DataFrame\n",
       "Columns: [title, category, address, locatedin, street, city, postalcode, countrycode, website, url, phone, permclosed, ad, score, placeid, lat, lng, reviewsno, onestar, twostar, threestar, fourstar, fivestar, coordinates]\n",
       "Index: []"
      ],
      "text/html": "<div>\n<style scoped>\n    .dataframe tbody tr th:only-of-type {\n        vertical-align: middle;\n    }\n\n    .dataframe tbody tr th {\n        vertical-align: top;\n    }\n\n    .dataframe thead th {\n        text-align: right;\n    }\n</style>\n<table border=\"1\" class=\"dataframe\">\n  <thead>\n    <tr style=\"text-align: right;\">\n      <th></th>\n      <th>title</th>\n      <th>category</th>\n      <th>address</th>\n      <th>locatedin</th>\n      <th>street</th>\n      <th>city</th>\n      <th>postalcode</th>\n      <th>countrycode</th>\n      <th>website</th>\n      <th>url</th>\n      <th>phone</th>\n      <th>permclosed</th>\n      <th>ad</th>\n      <th>score</th>\n      <th>placeid</th>\n      <th>lat</th>\n      <th>lng</th>\n      <th>reviewsno</th>\n      <th>onestar</th>\n      <th>twostar</th>\n      <th>threestar</th>\n      <th>fourstar</th>\n      <th>fivestar</th>\n      <th>coordinates</th>\n    </tr>\n  </thead>\n  <tbody>\n  </tbody>\n</table>\n</div>"
     },
     "metadata": {},
     "execution_count": 30
    }
   ],
   "source": [
    "nocoord_df[nocoord_df['coordinates'].isnull()]"
   ]
  },
  {
   "cell_type": "code",
   "execution_count": 31,
   "metadata": {},
   "outputs": [],
   "source": [
    "nocoord_df['lat'] = nocoord_df['coordinates'].map(lambda x: x.split()[0])\n",
    "nocoord_df['lng'] = nocoord_df['coordinates'].map(lambda x: x.split()[1])"
   ]
  },
  {
   "cell_type": "code",
   "execution_count": 32,
   "metadata": {},
   "outputs": [],
   "source": [
    "res['lat'].fillna(nocoord_df['lat'], inplace=True)\n",
    "res['lng'].fillna(nocoord_df['lng'], inplace=True)"
   ]
  },
  {
   "cell_type": "code",
   "execution_count": 33,
   "metadata": {},
   "outputs": [],
   "source": [
    "res.to_csv('../data/restaurants.csv', index=False)"
   ]
  },
  {
   "source": [
    "### Create Reviews Dataframe"
   ],
   "cell_type": "markdown",
   "metadata": {}
  },
  {
   "cell_type": "code",
   "execution_count": 34,
   "metadata": {},
   "outputs": [],
   "source": [
    "rev_list = []\n",
    "for restaurant in data:\n",
    "    for review in restaurant['reviews']:\n",
    "        rev_dict = {}\n",
    "        rev_dict['title'] = restaurant['title']\n",
    "        rev_dict['placeid'] = restaurant['placeId']\n",
    "        rev_dict['revname'] = review['name']\n",
    "        rev_dict['revid'] = review['reviewerId']\n",
    "        rev_dict['revdate'] = review['publishedAtDate']\n",
    "        rev_dict['revtext'] = review['text']\n",
    "        rev_dict['stars'] = review['stars']\n",
    "        rev_list.append(rev_dict)"
   ]
  },
  {
   "cell_type": "code",
   "execution_count": 35,
   "metadata": {},
   "outputs": [],
   "source": [
    "rev = pd.DataFrame(rev_list)"
   ]
  },
  {
   "cell_type": "code",
   "execution_count": 36,
   "metadata": {},
   "outputs": [
    {
     "output_type": "execute_result",
     "data": {
      "text/plain": [
       "          title                      placeid      revname  \\\n",
       "0  Shang Palace  ChIJXU9FcvQZ2jER7JzFxTOvf9A      W San L   \n",
       "1  Shang Palace  ChIJXU9FcvQZ2jER7JzFxTOvf9A      Chiwa C   \n",
       "2  Shang Palace  ChIJXU9FcvQZ2jER7JzFxTOvf9A  George Seah   \n",
       "3  Shang Palace  ChIJXU9FcvQZ2jER7JzFxTOvf9A       MH lai   \n",
       "4  Shang Palace  ChIJXU9FcvQZ2jER7JzFxTOvf9A   Paladin LT   \n",
       "\n",
       "                   revid                   revdate  \\\n",
       "0  104193174503991545162  2021-03-15T00:19:12.569Z   \n",
       "1  113235938724027892276  2021-03-31T10:30:50.619Z   \n",
       "2  114261243006797437214  2021-05-09T09:33:45.637Z   \n",
       "3  112309749743390038824  2021-04-10T12:42:18.125Z   \n",
       "4  114155819585951030381  2021-05-04T04:47:10.177Z   \n",
       "\n",
       "                                             revtext  stars  \n",
       "0  The dishes were delicious and the service staf...    5.0  \n",
       "1  The service was impeccable. I came with my mom...    5.0  \n",
       "2  Great food. Great service. Have tried shang pa...    5.0  \n",
       "3  We enjoyed Hk dim sum here .  We definitely wi...    4.0  \n",
       "4  Went to experience their 50th anniversary cele...    2.0  "
      ],
      "text/html": "<div>\n<style scoped>\n    .dataframe tbody tr th:only-of-type {\n        vertical-align: middle;\n    }\n\n    .dataframe tbody tr th {\n        vertical-align: top;\n    }\n\n    .dataframe thead th {\n        text-align: right;\n    }\n</style>\n<table border=\"1\" class=\"dataframe\">\n  <thead>\n    <tr style=\"text-align: right;\">\n      <th></th>\n      <th>title</th>\n      <th>placeid</th>\n      <th>revname</th>\n      <th>revid</th>\n      <th>revdate</th>\n      <th>revtext</th>\n      <th>stars</th>\n    </tr>\n  </thead>\n  <tbody>\n    <tr>\n      <th>0</th>\n      <td>Shang Palace</td>\n      <td>ChIJXU9FcvQZ2jER7JzFxTOvf9A</td>\n      <td>W San L</td>\n      <td>104193174503991545162</td>\n      <td>2021-03-15T00:19:12.569Z</td>\n      <td>The dishes were delicious and the service staf...</td>\n      <td>5.0</td>\n    </tr>\n    <tr>\n      <th>1</th>\n      <td>Shang Palace</td>\n      <td>ChIJXU9FcvQZ2jER7JzFxTOvf9A</td>\n      <td>Chiwa C</td>\n      <td>113235938724027892276</td>\n      <td>2021-03-31T10:30:50.619Z</td>\n      <td>The service was impeccable. I came with my mom...</td>\n      <td>5.0</td>\n    </tr>\n    <tr>\n      <th>2</th>\n      <td>Shang Palace</td>\n      <td>ChIJXU9FcvQZ2jER7JzFxTOvf9A</td>\n      <td>George Seah</td>\n      <td>114261243006797437214</td>\n      <td>2021-05-09T09:33:45.637Z</td>\n      <td>Great food. Great service. Have tried shang pa...</td>\n      <td>5.0</td>\n    </tr>\n    <tr>\n      <th>3</th>\n      <td>Shang Palace</td>\n      <td>ChIJXU9FcvQZ2jER7JzFxTOvf9A</td>\n      <td>MH lai</td>\n      <td>112309749743390038824</td>\n      <td>2021-04-10T12:42:18.125Z</td>\n      <td>We enjoyed Hk dim sum here .  We definitely wi...</td>\n      <td>4.0</td>\n    </tr>\n    <tr>\n      <th>4</th>\n      <td>Shang Palace</td>\n      <td>ChIJXU9FcvQZ2jER7JzFxTOvf9A</td>\n      <td>Paladin LT</td>\n      <td>114155819585951030381</td>\n      <td>2021-05-04T04:47:10.177Z</td>\n      <td>Went to experience their 50th anniversary cele...</td>\n      <td>2.0</td>\n    </tr>\n  </tbody>\n</table>\n</div>"
     },
     "metadata": {},
     "execution_count": 36
    }
   ],
   "source": [
    "rev.head()"
   ]
  },
  {
   "cell_type": "code",
   "execution_count": 37,
   "metadata": {},
   "outputs": [
    {
     "output_type": "stream",
     "name": "stdout",
     "text": [
      "<class 'pandas.core.frame.DataFrame'>\nRangeIndex: 221628 entries, 0 to 221627\nData columns (total 7 columns):\n #   Column   Non-Null Count   Dtype  \n---  ------   --------------   -----  \n 0   title    221628 non-null  object \n 1   placeid  221628 non-null  object \n 2   revname  221628 non-null  object \n 3   revid    221284 non-null  object \n 4   revdate  221628 non-null  object \n 5   revtext  202842 non-null  object \n 6   stars    221284 non-null  float64\ndtypes: float64(1), object(6)\nmemory usage: 11.8+ MB\n"
     ]
    }
   ],
   "source": [
    "rev.info()"
   ]
  },
  {
   "cell_type": "code",
   "execution_count": 38,
   "metadata": {},
   "outputs": [],
   "source": [
    "rev['revdate'] = pd.to_datetime(rev['revdate'])"
   ]
  },
  {
   "cell_type": "code",
   "execution_count": 39,
   "metadata": {},
   "outputs": [],
   "source": [
    "rev['revdate'] = rev['revdate'].dt.date"
   ]
  },
  {
   "cell_type": "code",
   "execution_count": 40,
   "metadata": {},
   "outputs": [],
   "source": [
    "rev = rev[rev['placeid'].isin(res['placeid'])]"
   ]
  },
  {
   "cell_type": "code",
   "execution_count": 41,
   "metadata": {},
   "outputs": [
    {
     "output_type": "execute_result",
     "data": {
      "text/plain": [
       "placeid\n",
       "ChIJ--SL2o0a2jERtOpNIBfE8Uk    50\n",
       "ChIJReunHQ8Q2jERpOkqPd4g7GM    50\n",
       "ChIJS1P8uKMa2jERA9Fs_REAZ9E    50\n",
       "ChIJS0i7JOYT2jERjMz20BWROo0    50\n",
       "ChIJ2WfIPhc82jERJ26aUJ6Vla8    50\n",
       "Name: revid, dtype: int64"
      ]
     },
     "metadata": {},
     "execution_count": 41
    }
   ],
   "source": [
    "rev.groupby('placeid')['revid'].count().sort_values(ascending=False).head()"
   ]
  },
  {
   "cell_type": "code",
   "execution_count": 42,
   "metadata": {},
   "outputs": [
    {
     "output_type": "execute_result",
     "data": {
      "text/plain": [
       "revname\n",
       "steven lim               141\n",
       "H2 O                     140\n",
       "YuLei Liu                117\n",
       "Andre Lee                114\n",
       "FoodieDirectory          113\n",
       "Andrew Goh               111\n",
       "Crystal Koh              108\n",
       "Royal Pears              106\n",
       "KH Chong                 105\n",
       "Wilfred Loy Yong Kang    102\n",
       "YC                       102\n",
       "Gohht 13                  95\n",
       "Andrew Tan                90\n",
       "Sean Goh                  87\n",
       "Desmond Wong              84\n",
       "Joel Lim Yi Jie           82\n",
       "Jodi Woods                81\n",
       "Gary Ng                   81\n",
       "Eric Chan                 80\n",
       "Kelvin Wee                80\n",
       "Name: revid, dtype: int64"
      ]
     },
     "metadata": {},
     "execution_count": 42
    }
   ],
   "source": [
    "rev.groupby('revname')['revid'].count().sort_values(ascending=False).head(20)"
   ]
  },
  {
   "cell_type": "code",
   "execution_count": 43,
   "metadata": {},
   "outputs": [],
   "source": [
    "rev.to_csv('../data/reviews.csv', index=False)"
   ]
  }
 ]
}